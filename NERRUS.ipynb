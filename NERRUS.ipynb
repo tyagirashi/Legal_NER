{
 "cells": [
  {
   "cell_type": "markdown",
   "metadata": {
    "id": "iJDIEo7swbba"
   },
   "source": [
    "### Setup"
   ]
  },
  {
   "cell_type": "code",
   "execution_count": 1,
   "metadata": {
    "colab": {
     "base_uri": "https://localhost:8080/"
    },
    "id": "mGJ_P8Vmv6jz",
    "outputId": "0ea6cdab-465b-472d-fade-70265c7159aa"
   },
   "outputs": [
    {
     "name": "stdout",
     "output_type": "stream",
     "text": [
      "Collecting en-legal-ner-trf==any\n",
      "  Downloading https://huggingface.co/opennyaiorg/en_legal_ner_trf/resolve/main/en_legal_ner_trf-any-py3-none-any.whl (446.7 MB)\n",
      "\u001b[K     |████████████████████████████████| 446.7 MB 88 kB/s s eta 0:00:013\n",
      "\u001b[?25hRequirement already satisfied: spacy<3.3.0,>=3.2.2 in /Users/utsavgupta/opt/anaconda3/lib/python3.9/site-packages (from en-legal-ner-trf==any) (3.2.4)\n",
      "Requirement already satisfied: spacy-transformers<1.2.0,>=1.1.4 in /Users/utsavgupta/opt/anaconda3/lib/python3.9/site-packages (from en-legal-ner-trf==any) (1.1.7)\n",
      "Requirement already satisfied: srsly<3.0.0,>=2.4.1 in /Users/utsavgupta/opt/anaconda3/lib/python3.9/site-packages (from spacy<3.3.0,>=3.2.2->en-legal-ner-trf==any) (2.4.5)\n",
      "Requirement already satisfied: wasabi<1.1.0,>=0.8.1 in /Users/utsavgupta/opt/anaconda3/lib/python3.9/site-packages (from spacy<3.3.0,>=3.2.2->en-legal-ner-trf==any) (0.10.1)\n",
      "Requirement already satisfied: tqdm<5.0.0,>=4.38.0 in /Users/utsavgupta/opt/anaconda3/lib/python3.9/site-packages (from spacy<3.3.0,>=3.2.2->en-legal-ner-trf==any) (4.64.0)\n",
      "Requirement already satisfied: thinc<8.1.0,>=8.0.12 in /Users/utsavgupta/opt/anaconda3/lib/python3.9/site-packages (from spacy<3.3.0,>=3.2.2->en-legal-ner-trf==any) (8.0.17)\n",
      "Requirement already satisfied: typer<0.5.0,>=0.3.0 in /Users/utsavgupta/opt/anaconda3/lib/python3.9/site-packages (from spacy<3.3.0,>=3.2.2->en-legal-ner-trf==any) (0.4.2)\n",
      "Requirement already satisfied: jinja2 in /Users/utsavgupta/opt/anaconda3/lib/python3.9/site-packages (from spacy<3.3.0,>=3.2.2->en-legal-ner-trf==any) (2.11.3)\n",
      "Requirement already satisfied: cymem<2.1.0,>=2.0.2 in /Users/utsavgupta/opt/anaconda3/lib/python3.9/site-packages (from spacy<3.3.0,>=3.2.2->en-legal-ner-trf==any) (2.0.7)\n",
      "Requirement already satisfied: spacy-legacy<3.1.0,>=3.0.8 in /Users/utsavgupta/opt/anaconda3/lib/python3.9/site-packages (from spacy<3.3.0,>=3.2.2->en-legal-ner-trf==any) (3.0.10)\n",
      "Requirement already satisfied: preshed<3.1.0,>=3.0.2 in /Users/utsavgupta/opt/anaconda3/lib/python3.9/site-packages (from spacy<3.3.0,>=3.2.2->en-legal-ner-trf==any) (3.0.8)\n",
      "Requirement already satisfied: setuptools in /Users/utsavgupta/opt/anaconda3/lib/python3.9/site-packages (from spacy<3.3.0,>=3.2.2->en-legal-ner-trf==any) (61.2.0)\n",
      "Requirement already satisfied: requests<3.0.0,>=2.13.0 in /Users/utsavgupta/opt/anaconda3/lib/python3.9/site-packages (from spacy<3.3.0,>=3.2.2->en-legal-ner-trf==any) (2.27.1)\n",
      "Requirement already satisfied: pydantic!=1.8,!=1.8.1,<1.9.0,>=1.7.4 in /Users/utsavgupta/opt/anaconda3/lib/python3.9/site-packages (from spacy<3.3.0,>=3.2.2->en-legal-ner-trf==any) (1.8.2)\n",
      "Requirement already satisfied: langcodes<4.0.0,>=3.2.0 in /Users/utsavgupta/opt/anaconda3/lib/python3.9/site-packages (from spacy<3.3.0,>=3.2.2->en-legal-ner-trf==any) (3.3.0)\n",
      "Requirement already satisfied: numpy>=1.15.0 in /Users/utsavgupta/opt/anaconda3/lib/python3.9/site-packages (from spacy<3.3.0,>=3.2.2->en-legal-ner-trf==any) (1.21.5)\n",
      "Requirement already satisfied: blis<0.8.0,>=0.4.0 in /Users/utsavgupta/opt/anaconda3/lib/python3.9/site-packages (from spacy<3.3.0,>=3.2.2->en-legal-ner-trf==any) (0.7.9)\n",
      "Requirement already satisfied: spacy-loggers<2.0.0,>=1.0.0 in /Users/utsavgupta/opt/anaconda3/lib/python3.9/site-packages (from spacy<3.3.0,>=3.2.2->en-legal-ner-trf==any) (1.0.3)\n",
      "Requirement already satisfied: catalogue<2.1.0,>=2.0.6 in /Users/utsavgupta/opt/anaconda3/lib/python3.9/site-packages (from spacy<3.3.0,>=3.2.2->en-legal-ner-trf==any) (2.0.8)\n",
      "Requirement already satisfied: pathy>=0.3.5 in /Users/utsavgupta/opt/anaconda3/lib/python3.9/site-packages (from spacy<3.3.0,>=3.2.2->en-legal-ner-trf==any) (0.10.0)\n",
      "Requirement already satisfied: murmurhash<1.1.0,>=0.28.0 in /Users/utsavgupta/opt/anaconda3/lib/python3.9/site-packages (from spacy<3.3.0,>=3.2.2->en-legal-ner-trf==any) (1.0.9)\n",
      "Requirement already satisfied: packaging>=20.0 in /Users/utsavgupta/opt/anaconda3/lib/python3.9/site-packages (from spacy<3.3.0,>=3.2.2->en-legal-ner-trf==any) (21.3)\n",
      "Requirement already satisfied: click<8.1.0 in /Users/utsavgupta/opt/anaconda3/lib/python3.9/site-packages (from spacy<3.3.0,>=3.2.2->en-legal-ner-trf==any) (8.0.4)\n",
      "Requirement already satisfied: pyparsing!=3.0.5,>=2.0.2 in /Users/utsavgupta/opt/anaconda3/lib/python3.9/site-packages (from packaging>=20.0->spacy<3.3.0,>=3.2.2->en-legal-ner-trf==any) (3.0.4)\n",
      "Requirement already satisfied: smart-open<6.0.0,>=5.2.1 in /Users/utsavgupta/opt/anaconda3/lib/python3.9/site-packages (from pathy>=0.3.5->spacy<3.3.0,>=3.2.2->en-legal-ner-trf==any) (5.2.1)\n",
      "Requirement already satisfied: typing-extensions>=3.7.4.3 in /Users/utsavgupta/opt/anaconda3/lib/python3.9/site-packages (from pydantic!=1.8,!=1.8.1,<1.9.0,>=1.7.4->spacy<3.3.0,>=3.2.2->en-legal-ner-trf==any) (4.1.1)\n",
      "Requirement already satisfied: certifi>=2017.4.17 in /Users/utsavgupta/opt/anaconda3/lib/python3.9/site-packages (from requests<3.0.0,>=2.13.0->spacy<3.3.0,>=3.2.2->en-legal-ner-trf==any) (2022.5.18.1)\n",
      "Requirement already satisfied: charset-normalizer~=2.0.0 in /Users/utsavgupta/opt/anaconda3/lib/python3.9/site-packages (from requests<3.0.0,>=2.13.0->spacy<3.3.0,>=3.2.2->en-legal-ner-trf==any) (2.0.4)\n",
      "Requirement already satisfied: urllib3<1.27,>=1.21.1 in /Users/utsavgupta/opt/anaconda3/lib/python3.9/site-packages (from requests<3.0.0,>=2.13.0->spacy<3.3.0,>=3.2.2->en-legal-ner-trf==any) (1.26.9)\n",
      "Requirement already satisfied: idna<4,>=2.5 in /Users/utsavgupta/opt/anaconda3/lib/python3.9/site-packages (from requests<3.0.0,>=2.13.0->spacy<3.3.0,>=3.2.2->en-legal-ner-trf==any) (3.3)\n",
      "Requirement already satisfied: torch>=1.6.0 in /Users/utsavgupta/opt/anaconda3/lib/python3.9/site-packages (from spacy-transformers<1.2.0,>=1.1.4->en-legal-ner-trf==any) (1.13.0)\n",
      "Requirement already satisfied: transformers<4.21.0,>=3.4.0 in /Users/utsavgupta/opt/anaconda3/lib/python3.9/site-packages (from spacy-transformers<1.2.0,>=1.1.4->en-legal-ner-trf==any) (4.20.1)\n",
      "Requirement already satisfied: spacy-alignments<1.0.0,>=0.7.2 in /Users/utsavgupta/opt/anaconda3/lib/python3.9/site-packages (from spacy-transformers<1.2.0,>=1.1.4->en-legal-ner-trf==any) (0.8.6)\n",
      "Requirement already satisfied: pyyaml>=5.1 in /Users/utsavgupta/opt/anaconda3/lib/python3.9/site-packages (from transformers<4.21.0,>=3.4.0->spacy-transformers<1.2.0,>=1.1.4->en-legal-ner-trf==any) (6.0)\n",
      "Requirement already satisfied: huggingface-hub<1.0,>=0.1.0 in /Users/utsavgupta/opt/anaconda3/lib/python3.9/site-packages (from transformers<4.21.0,>=3.4.0->spacy-transformers<1.2.0,>=1.1.4->en-legal-ner-trf==any) (0.11.1)\n",
      "Requirement already satisfied: filelock in /Users/utsavgupta/opt/anaconda3/lib/python3.9/site-packages (from transformers<4.21.0,>=3.4.0->spacy-transformers<1.2.0,>=1.1.4->en-legal-ner-trf==any) (3.6.0)\n",
      "Requirement already satisfied: regex!=2019.12.17 in /Users/utsavgupta/opt/anaconda3/lib/python3.9/site-packages (from transformers<4.21.0,>=3.4.0->spacy-transformers<1.2.0,>=1.1.4->en-legal-ner-trf==any) (2022.3.15)\n",
      "Requirement already satisfied: tokenizers!=0.11.3,<0.13,>=0.11.1 in /Users/utsavgupta/opt/anaconda3/lib/python3.9/site-packages (from transformers<4.21.0,>=3.4.0->spacy-transformers<1.2.0,>=1.1.4->en-legal-ner-trf==any) (0.12.1)\n",
      "Requirement already satisfied: MarkupSafe>=0.23 in /Users/utsavgupta/opt/anaconda3/lib/python3.9/site-packages (from jinja2->spacy<3.3.0,>=3.2.2->en-legal-ner-trf==any) (2.0.1)\n",
      "Collecting en-core-web-sm==3.2.0\n",
      "  Downloading https://github.com/explosion/spacy-models/releases/download/en_core_web_sm-3.2.0/en_core_web_sm-3.2.0-py3-none-any.whl (13.9 MB)\n",
      "\u001b[K     |████████████████████████████████| 13.9 MB 5.9 MB/s eta 0:00:01\n",
      "\u001b[?25hRequirement already satisfied: spacy<3.3.0,>=3.2.0 in /Users/utsavgupta/opt/anaconda3/lib/python3.9/site-packages (from en-core-web-sm==3.2.0) (3.2.4)\n",
      "Requirement already satisfied: typer<0.5.0,>=0.3.0 in /Users/utsavgupta/opt/anaconda3/lib/python3.9/site-packages (from spacy<3.3.0,>=3.2.0->en-core-web-sm==3.2.0) (0.4.2)\n",
      "Requirement already satisfied: packaging>=20.0 in /Users/utsavgupta/opt/anaconda3/lib/python3.9/site-packages (from spacy<3.3.0,>=3.2.0->en-core-web-sm==3.2.0) (21.3)\n",
      "Requirement already satisfied: setuptools in /Users/utsavgupta/opt/anaconda3/lib/python3.9/site-packages (from spacy<3.3.0,>=3.2.0->en-core-web-sm==3.2.0) (61.2.0)\n",
      "Requirement already satisfied: langcodes<4.0.0,>=3.2.0 in /Users/utsavgupta/opt/anaconda3/lib/python3.9/site-packages (from spacy<3.3.0,>=3.2.0->en-core-web-sm==3.2.0) (3.3.0)\n",
      "Requirement already satisfied: click<8.1.0 in /Users/utsavgupta/opt/anaconda3/lib/python3.9/site-packages (from spacy<3.3.0,>=3.2.0->en-core-web-sm==3.2.0) (8.0.4)\n",
      "Requirement already satisfied: pydantic!=1.8,!=1.8.1,<1.9.0,>=1.7.4 in /Users/utsavgupta/opt/anaconda3/lib/python3.9/site-packages (from spacy<3.3.0,>=3.2.0->en-core-web-sm==3.2.0) (1.8.2)\n",
      "Requirement already satisfied: pathy>=0.3.5 in /Users/utsavgupta/opt/anaconda3/lib/python3.9/site-packages (from spacy<3.3.0,>=3.2.0->en-core-web-sm==3.2.0) (0.10.0)\n",
      "Requirement already satisfied: spacy-loggers<2.0.0,>=1.0.0 in /Users/utsavgupta/opt/anaconda3/lib/python3.9/site-packages (from spacy<3.3.0,>=3.2.0->en-core-web-sm==3.2.0) (1.0.3)\n",
      "Requirement already satisfied: wasabi<1.1.0,>=0.8.1 in /Users/utsavgupta/opt/anaconda3/lib/python3.9/site-packages (from spacy<3.3.0,>=3.2.0->en-core-web-sm==3.2.0) (0.10.1)\n",
      "Requirement already satisfied: spacy-legacy<3.1.0,>=3.0.8 in /Users/utsavgupta/opt/anaconda3/lib/python3.9/site-packages (from spacy<3.3.0,>=3.2.0->en-core-web-sm==3.2.0) (3.0.10)\n",
      "Requirement already satisfied: jinja2 in /Users/utsavgupta/opt/anaconda3/lib/python3.9/site-packages (from spacy<3.3.0,>=3.2.0->en-core-web-sm==3.2.0) (2.11.3)\n",
      "Requirement already satisfied: thinc<8.1.0,>=8.0.12 in /Users/utsavgupta/opt/anaconda3/lib/python3.9/site-packages (from spacy<3.3.0,>=3.2.0->en-core-web-sm==3.2.0) (8.0.17)\n",
      "Requirement already satisfied: numpy>=1.15.0 in /Users/utsavgupta/opt/anaconda3/lib/python3.9/site-packages (from spacy<3.3.0,>=3.2.0->en-core-web-sm==3.2.0) (1.21.5)\n",
      "Requirement already satisfied: requests<3.0.0,>=2.13.0 in /Users/utsavgupta/opt/anaconda3/lib/python3.9/site-packages (from spacy<3.3.0,>=3.2.0->en-core-web-sm==3.2.0) (2.27.1)\n",
      "Requirement already satisfied: blis<0.8.0,>=0.4.0 in /Users/utsavgupta/opt/anaconda3/lib/python3.9/site-packages (from spacy<3.3.0,>=3.2.0->en-core-web-sm==3.2.0) (0.7.9)\n",
      "Requirement already satisfied: cymem<2.1.0,>=2.0.2 in /Users/utsavgupta/opt/anaconda3/lib/python3.9/site-packages (from spacy<3.3.0,>=3.2.0->en-core-web-sm==3.2.0) (2.0.7)\n",
      "Requirement already satisfied: tqdm<5.0.0,>=4.38.0 in /Users/utsavgupta/opt/anaconda3/lib/python3.9/site-packages (from spacy<3.3.0,>=3.2.0->en-core-web-sm==3.2.0) (4.64.0)\n",
      "Requirement already satisfied: catalogue<2.1.0,>=2.0.6 in /Users/utsavgupta/opt/anaconda3/lib/python3.9/site-packages (from spacy<3.3.0,>=3.2.0->en-core-web-sm==3.2.0) (2.0.8)\n",
      "Requirement already satisfied: srsly<3.0.0,>=2.4.1 in /Users/utsavgupta/opt/anaconda3/lib/python3.9/site-packages (from spacy<3.3.0,>=3.2.0->en-core-web-sm==3.2.0) (2.4.5)\n",
      "Requirement already satisfied: murmurhash<1.1.0,>=0.28.0 in /Users/utsavgupta/opt/anaconda3/lib/python3.9/site-packages (from spacy<3.3.0,>=3.2.0->en-core-web-sm==3.2.0) (1.0.9)\n",
      "Requirement already satisfied: preshed<3.1.0,>=3.0.2 in /Users/utsavgupta/opt/anaconda3/lib/python3.9/site-packages (from spacy<3.3.0,>=3.2.0->en-core-web-sm==3.2.0) (3.0.8)\n",
      "Requirement already satisfied: pyparsing!=3.0.5,>=2.0.2 in /Users/utsavgupta/opt/anaconda3/lib/python3.9/site-packages (from packaging>=20.0->spacy<3.3.0,>=3.2.0->en-core-web-sm==3.2.0) (3.0.4)\n",
      "Requirement already satisfied: smart-open<6.0.0,>=5.2.1 in /Users/utsavgupta/opt/anaconda3/lib/python3.9/site-packages (from pathy>=0.3.5->spacy<3.3.0,>=3.2.0->en-core-web-sm==3.2.0) (5.2.1)\n",
      "Requirement already satisfied: typing-extensions>=3.7.4.3 in /Users/utsavgupta/opt/anaconda3/lib/python3.9/site-packages (from pydantic!=1.8,!=1.8.1,<1.9.0,>=1.7.4->spacy<3.3.0,>=3.2.0->en-core-web-sm==3.2.0) (4.1.1)\n",
      "Requirement already satisfied: certifi>=2017.4.17 in /Users/utsavgupta/opt/anaconda3/lib/python3.9/site-packages (from requests<3.0.0,>=2.13.0->spacy<3.3.0,>=3.2.0->en-core-web-sm==3.2.0) (2022.5.18.1)\n"
     ]
    },
    {
     "name": "stdout",
     "output_type": "stream",
     "text": [
      "Requirement already satisfied: idna<4,>=2.5 in /Users/utsavgupta/opt/anaconda3/lib/python3.9/site-packages (from requests<3.0.0,>=2.13.0->spacy<3.3.0,>=3.2.0->en-core-web-sm==3.2.0) (3.3)\n",
      "Requirement already satisfied: urllib3<1.27,>=1.21.1 in /Users/utsavgupta/opt/anaconda3/lib/python3.9/site-packages (from requests<3.0.0,>=2.13.0->spacy<3.3.0,>=3.2.0->en-core-web-sm==3.2.0) (1.26.9)\n",
      "Requirement already satisfied: charset-normalizer~=2.0.0 in /Users/utsavgupta/opt/anaconda3/lib/python3.9/site-packages (from requests<3.0.0,>=2.13.0->spacy<3.3.0,>=3.2.0->en-core-web-sm==3.2.0) (2.0.4)\n",
      "Requirement already satisfied: MarkupSafe>=0.23 in /Users/utsavgupta/opt/anaconda3/lib/python3.9/site-packages (from jinja2->spacy<3.3.0,>=3.2.0->en-core-web-sm==3.2.0) (2.0.1)\n"
     ]
    }
   ],
   "source": [
    "!pip install https://huggingface.co/opennyaiorg/en_legal_ner_trf/resolve/main/en_legal_ner_trf-any-py3-none-any.whl\n",
    "!pip install https://github.com/explosion/spacy-models/releases/download/en_core_web_sm-3.2.0/en_core_web_sm-3.2.0-py3-none-any.whl"
   ]
  },
  {
   "cell_type": "code",
   "execution_count": 16,
   "metadata": {},
   "outputs": [
    {
     "name": "stdout",
     "output_type": "stream",
     "text": [
      "The autoreload extension is already loaded. To reload it, use:\n",
      "  %reload_ext autoreload\n"
     ]
    }
   ],
   "source": [
    "# This is so that you don't have to restart the kernel everytime you edit hmm.py\n",
    "\n",
    "%load_ext autoreload\n",
    "%autoreload 2"
   ]
  },
  {
   "cell_type": "code",
   "execution_count": null,
   "metadata": {
    "colab": {
     "base_uri": "https://localhost:8080/"
    },
    "id": "zQPXK79uxagy",
    "outputId": "e305168f-5448-4869-9357-354ae7664a07"
   },
   "outputs": [
    {
     "name": "stdout",
     "output_type": "stream",
     "text": [
      "Cloning into 'legal_NER'...\n",
      "remote: Enumerating objects: 326, done.\u001b[K\n",
      "remote: Counting objects: 100% (183/183), done.\u001b[K\n",
      "remote: Compressing objects: 100% (137/137), done.\u001b[K\n",
      "remote: Total 326 (delta 105), reused 87 (delta 38), pack-reused 143\u001b[K\n",
      "Receiving objects: 100% (326/326), 6.23 MiB | 19.95 MiB/s, done.\n",
      "Resolving deltas: 100% (177/177), done.\n"
     ]
    }
   ],
   "source": [
    "!git clone https://github.com/Legal-NLP-EkStep/legal_NER.git"
   ]
  },
  {
   "cell_type": "markdown",
   "metadata": {
    "id": "d9nntx_A1WvU"
   },
   "source": [
    "### Restart runtime now and then run cell to change directory "
   ]
  },
  {
   "cell_type": "code",
   "execution_count": null,
   "metadata": {
    "colab": {
     "base_uri": "https://localhost:8080/"
    },
    "id": "4GViPGWBwsH1",
    "outputId": "594f07a9-87a1-4a06-9202-1c3ad02ac86d"
   },
   "outputs": [
    {
     "name": "stdout",
     "output_type": "stream",
     "text": [
      "/content/legal_NER\n"
     ]
    }
   ],
   "source": [
    "cd legal_NER"
   ]
  },
  {
   "cell_type": "markdown",
   "metadata": {
    "id": "UefY9sPjxfUH"
   },
   "source": [
    "### Load necessary functions and InLegalNER model"
   ]
  },
  {
   "cell_type": "code",
   "execution_count": 2,
   "metadata": {
    "id": "BMmg1BL2xdAA"
   },
   "outputs": [],
   "source": [
    "import spacy,json\n",
    "from data_preparation import get_json_from_spacy_doc\n",
    "from spacy import displacy\n",
    "from legal_ner import extract_entities_from_judgment_text\n",
    "try:\n",
    "  spacy.prefer_gpu(device='gpu', gpu_id=1)   # gpu_id = 1 to resolve cuda errors\n",
    "except:\n",
    "  pass\n",
    "legal_nlp=spacy.load('en_legal_ner_trf')"
   ]
  },
  {
   "cell_type": "code",
   "execution_count": 3,
   "metadata": {
    "id": "9hStMlE_-I0u"
   },
   "outputs": [],
   "source": [
    "try:\n",
    "  spacy.prefer_gpu(device='gpu', gpu_id=1)\n",
    "except:\n",
    "  pass\n",
    "preamble_spiltting_nlp = spacy.load('en_core_web_sm')"
   ]
  },
  {
   "cell_type": "markdown",
   "metadata": {
    "id": "JX-SRo-P20ko"
   },
   "source": [
    "### Fetch and convert training/dev data into dataframes"
   ]
  },
  {
   "cell_type": "code",
   "execution_count": 4,
   "metadata": {
    "id": "LA3oUarZ_Esl"
   },
   "outputs": [],
   "source": [
    "# Load training json data\n",
    "f = open('NER_TRAIN_JUDGEMENT.json')\n",
    "train_judgement_data = json.load(f)\n",
    "f.close()\n",
    "\n",
    "f = open('NER_TRAIN_PREAMBLE.json')\n",
    "train_preamble_data = json.load(f)\n",
    "f.close()\n",
    "\n",
    "# Load dev json data\n",
    "f = open('NER_DEV_JUDGEMENT.json')\n",
    "dev_judgement_data = json.load(f)\n",
    "f.close()\n",
    "\n",
    "f = open('NER_DEV_PREAMBLE.json')\n",
    "dev_preamble_data = json.load(f)\n",
    "f.close()"
   ]
  },
  {
   "cell_type": "code",
   "execution_count": 5,
   "metadata": {
    "colab": {
     "base_uri": "https://localhost:8080/",
     "height": 276
    },
    "id": "gASVggpZnbAz",
    "outputId": "469bd394-6194-4f5f-eaa7-f7778238fe28",
    "scrolled": true
   },
   "outputs": [
    {
     "name": "stdout",
     "output_type": "stream",
     "text": [
      "(17485, 6) ['RESPONDENT', 'PROVISION', 'GPE', 'ORG', 'WITNESS', 'CASE_NUMBER', 'STATUTE', 'COURT', 'JUDGE', 'PETITIONER', 'OTHER_PERSON', 'PRECEDENT', 'DATE']\n",
      "(12479, 6) ['RESPONDENT', 'COURT', 'JUDGE', 'LAWYER', 'PETITIONER']\n",
      "(1876, 6) ['RESPONDENT', 'PROVISION', 'GPE', 'ORG', 'CASE_NUMBER', 'WITNESS', 'STATUTE', 'COURT', 'JUDGE', 'PETITIONER', 'OTHER_PERSON', 'PRECEDENT', 'DATE']\n",
      "(1385, 6) ['RESPONDENT', 'COURT', 'JUDGE', 'LAWYER', 'PETITIONER']\n"
     ]
    },
    {
     "data": {
      "text/html": [
       "<div>\n",
       "<style scoped>\n",
       "    .dataframe tbody tr th:only-of-type {\n",
       "        vertical-align: middle;\n",
       "    }\n",
       "\n",
       "    .dataframe tbody tr th {\n",
       "        vertical-align: top;\n",
       "    }\n",
       "\n",
       "    .dataframe thead th {\n",
       "        text-align: right;\n",
       "    }\n",
       "</style>\n",
       "<table border=\"1\" class=\"dataframe\">\n",
       "  <thead>\n",
       "    <tr style=\"text-align: right;\">\n",
       "      <th></th>\n",
       "      <th>id</th>\n",
       "      <th>text</th>\n",
       "      <th>start</th>\n",
       "      <th>end</th>\n",
       "      <th>entity</th>\n",
       "      <th>label</th>\n",
       "    </tr>\n",
       "  </thead>\n",
       "  <tbody>\n",
       "    <tr>\n",
       "      <th>0</th>\n",
       "      <td>d79fb7f965a74e418212458285c7c213</td>\n",
       "      <td>In The High Court Of Kerala At Ernakulam\\n\\nCr...</td>\n",
       "      <td>7</td>\n",
       "      <td>40</td>\n",
       "      <td>High Court Of Kerala At Ernakulam</td>\n",
       "      <td>COURT</td>\n",
       "    </tr>\n",
       "    <tr>\n",
       "      <th>1</th>\n",
       "      <td>d79fb7f965a74e418212458285c7c213</td>\n",
       "      <td>In The High Court Of Kerala At Ernakulam\\n\\nCr...</td>\n",
       "      <td>73</td>\n",
       "      <td>83</td>\n",
       "      <td>T.R.Ajayan</td>\n",
       "      <td>PETITIONER</td>\n",
       "    </tr>\n",
       "    <tr>\n",
       "      <th>2</th>\n",
       "      <td>d79fb7f965a74e418212458285c7c213</td>\n",
       "      <td>In The High Court Of Kerala At Ernakulam\\n\\nCr...</td>\n",
       "      <td>171</td>\n",
       "      <td>182</td>\n",
       "      <td>M.Ravindran</td>\n",
       "      <td>RESPONDENT</td>\n",
       "    </tr>\n",
       "    <tr>\n",
       "      <th>3</th>\n",
       "      <td>d79fb7f965a74e418212458285c7c213</td>\n",
       "      <td>In The High Court Of Kerala At Ernakulam\\n\\nCr...</td>\n",
       "      <td>237</td>\n",
       "      <td>251</td>\n",
       "      <td>Nirmala Dinesh</td>\n",
       "      <td>RESPONDENT</td>\n",
       "    </tr>\n",
       "    <tr>\n",
       "      <th>4</th>\n",
       "      <td>d79fb7f965a74e418212458285c7c213</td>\n",
       "      <td>In The High Court Of Kerala At Ernakulam\\n\\nCr...</td>\n",
       "      <td>304</td>\n",
       "      <td>311</td>\n",
       "      <td>A.Kumar</td>\n",
       "      <td>LAWYER</td>\n",
       "    </tr>\n",
       "  </tbody>\n",
       "</table>\n",
       "</div>"
      ],
      "text/plain": [
       "                                 id  \\\n",
       "0  d79fb7f965a74e418212458285c7c213   \n",
       "1  d79fb7f965a74e418212458285c7c213   \n",
       "2  d79fb7f965a74e418212458285c7c213   \n",
       "3  d79fb7f965a74e418212458285c7c213   \n",
       "4  d79fb7f965a74e418212458285c7c213   \n",
       "\n",
       "                                                text  start  end  \\\n",
       "0  In The High Court Of Kerala At Ernakulam\\n\\nCr...      7   40   \n",
       "1  In The High Court Of Kerala At Ernakulam\\n\\nCr...     73   83   \n",
       "2  In The High Court Of Kerala At Ernakulam\\n\\nCr...    171  182   \n",
       "3  In The High Court Of Kerala At Ernakulam\\n\\nCr...    237  251   \n",
       "4  In The High Court Of Kerala At Ernakulam\\n\\nCr...    304  311   \n",
       "\n",
       "                              entity       label  \n",
       "0  High Court Of Kerala At Ernakulam       COURT  \n",
       "1                         T.R.Ajayan  PETITIONER  \n",
       "2                        M.Ravindran  RESPONDENT  \n",
       "3                     Nirmala Dinesh  RESPONDENT  \n",
       "4                            A.Kumar      LAWYER  "
      ]
     },
     "execution_count": 5,
     "metadata": {},
     "output_type": "execute_result"
    }
   ],
   "source": [
    "from utils import json_to_dataframe\n",
    "\n",
    "df_train_judgement, df_train_judgement_labels = json_to_dataframe(train_judgement_data)\n",
    "print(df_train_judgement.shape, df_train_judgement_labels)\n",
    "\n",
    "df_train_preamble, df_train_preamble_labels = json_to_dataframe(train_preamble_data)\n",
    "print(df_train_preamble.shape, df_train_preamble_labels)\n",
    "#df_train_preamble.head(5)\n",
    "\n",
    "df_dev_judgement, df_dev_judgement_labels = json_to_dataframe(dev_judgement_data)\n",
    "print(df_dev_judgement.shape, df_dev_judgement_labels)\n",
    "#df_dev_judgement.head(5)\n",
    "\n",
    "df_dev_preamble, df_dev_preamble_labels = json_to_dataframe(dev_preamble_data)\n",
    "print(df_dev_preamble.shape, df_dev_preamble_labels)\n",
    "#df_dev_preamble.head(5)\n",
    "\n",
    "df_train_preamble.head(5)"
   ]
  },
  {
   "cell_type": "markdown",
   "metadata": {},
   "source": [
    "## Baseline Model"
   ]
  },
  {
   "cell_type": "code",
   "execution_count": 10,
   "metadata": {},
   "outputs": [
    {
     "data": {
      "text/plain": [
       "str"
      ]
     },
     "execution_count": 10,
     "metadata": {},
     "output_type": "execute_result"
    }
   ],
   "source": [
    "type(train_preamble_data[0][\"data\"][\"text\"])"
   ]
  },
  {
   "cell_type": "code",
   "execution_count": 32,
   "metadata": {},
   "outputs": [
    {
     "data": {
      "text/html": [
       "<div>\n",
       "<style scoped>\n",
       "    .dataframe tbody tr th:only-of-type {\n",
       "        vertical-align: middle;\n",
       "    }\n",
       "\n",
       "    .dataframe tbody tr th {\n",
       "        vertical-align: top;\n",
       "    }\n",
       "\n",
       "    .dataframe thead th {\n",
       "        text-align: right;\n",
       "    }\n",
       "</style>\n",
       "<table border=\"1\" class=\"dataframe\">\n",
       "  <thead>\n",
       "    <tr style=\"text-align: right;\">\n",
       "      <th></th>\n",
       "      <th>id</th>\n",
       "      <th>text</th>\n",
       "    </tr>\n",
       "  </thead>\n",
       "  <tbody>\n",
       "    <tr>\n",
       "      <th>0</th>\n",
       "      <td>1ea9dd0b69b64720851a2234a689082f</td>\n",
       "      <td>($, ~40, \\n, *,    , In, The, High, Court, Of,...</td>\n",
       "    </tr>\n",
       "    <tr>\n",
       "      <th>1</th>\n",
       "      <td>dc971f32971b4a52a0698650111e8fc3</td>\n",
       "      <td>(1, \\n\\n                                      ...</td>\n",
       "    </tr>\n",
       "    <tr>\n",
       "      <th>2</th>\n",
       "      <td>20026855d8e04d91bde343dd203fec4b</td>\n",
       "      <td>(R, /, Scr, ., A/9089/2017,                   ...</td>\n",
       "    </tr>\n",
       "    <tr>\n",
       "      <th>3</th>\n",
       "      <td>a3ff6117512d4897846f7e0bd4e46ee7</td>\n",
       "      <td>(High, Court, Of, Judicature, For, Rajasthan, ...</td>\n",
       "    </tr>\n",
       "    <tr>\n",
       "      <th>4</th>\n",
       "      <td>8664b65997ef4742b697bd03159b5ed1</td>\n",
       "      <td>(1, \\n\\n                                     ,...</td>\n",
       "    </tr>\n",
       "  </tbody>\n",
       "</table>\n",
       "</div>"
      ],
      "text/plain": [
       "                                 id  \\\n",
       "0  1ea9dd0b69b64720851a2234a689082f   \n",
       "1  dc971f32971b4a52a0698650111e8fc3   \n",
       "2  20026855d8e04d91bde343dd203fec4b   \n",
       "3  a3ff6117512d4897846f7e0bd4e46ee7   \n",
       "4  8664b65997ef4742b697bd03159b5ed1   \n",
       "\n",
       "                                                text  \n",
       "0  ($, ~40, \\n, *,    , In, The, High, Court, Of,...  \n",
       "1  (1, \\n\\n                                      ...  \n",
       "2  (R, /, Scr, ., A/9089/2017,                   ...  \n",
       "3  (High, Court, Of, Judicature, For, Rajasthan, ...  \n",
       "4  (1, \\n\\n                                     ,...  "
      ]
     },
     "execution_count": 32,
     "metadata": {},
     "output_type": "execute_result"
    }
   ],
   "source": [
    "from utils import get_spacy_texts_from_json, predict_baseline\n",
    "\n",
    "# Get all texts from dev data\n",
    "dev_judgement_texts = get_spacy_texts_from_json(dev_judgement_data, preamble_spiltting_nlp)\n",
    "dev_preamble_texts = get_spacy_texts_from_json(dev_preamble_data, preamble_spiltting_nlp)\n",
    "\n",
    "dev_preamble_texts.head(5)"
   ]
  },
  {
   "cell_type": "code",
   "execution_count": 41,
   "metadata": {},
   "outputs": [
    {
     "name": "stderr",
     "output_type": "stream",
     "text": [
      "/Users/utsavgupta/opt/anaconda3/envs/nlp_env/lib/python3.9/site-packages/torch/amp/autocast_mode.py:198: UserWarning: User provided device_type of 'cuda', but CUDA is not available. Disabling\n",
      "  warnings.warn('User provided device_type of \\'cuda\\', but CUDA is not available. Disabling')\n",
      "/Users/utsavgupta/Documents/Academic/MS Courses/CSCI5832 NLP/Shared Task/Legal_NER/data_preparation.py:261: UserWarning: [W101] Skipping Doc custom extension 'trf_data' while merging docs.\n",
      "  combined_docs=spacy.tokens.Doc.from_docs(docs)\n",
      "Token indices sequence length is longer than the specified maximum sequence length for this model (578 > 512). Running this sequence through the model will result in indexing errors\n"
     ]
    },
    {
     "name": "stdout",
     "output_type": "stream",
     "text": [
      "Prediction done!\n"
     ]
    }
   ],
   "source": [
    "run_type = 'sent'\n",
    "do_postprocessing = False\n",
    "\n",
    "# predict dev judgement texts\n",
    "dev_judgement_preds = predict_baseline(dev_judgement_texts.loc[:, 'text'], legal_nlp, run_type, do_postprocessing)\n",
    "\n",
    "# predict dev preamble texts\n",
    "dev_preamble_preds = predict_baseline(dev_preamble_texts.loc[:, 'text'], legal_nlp, run_type, do_postprocessing)\n",
    "\n",
    "# dev_judgement_preds[0].ents\n",
    "\n",
    "print(\"Prediction done!\")"
   ]
  },
  {
   "cell_type": "code",
   "execution_count": 42,
   "metadata": {},
   "outputs": [
    {
     "name": "stdout",
     "output_type": "stream",
     "text": [
      "(Constitution, R.C. Cooper v. Union of India, (1970) 1 SCC 248, Maneka Gandhi v. Union of India, (1978) 1 SCC 248)\n",
      "['STATUTE', 'PRECEDENT', 'PRECEDENT']\n"
     ]
    }
   ],
   "source": [
    "# print(dev_judgement_preds[0].to_json())\n",
    "print(dev_judgement_preds[0].ents)\n",
    "extracted_ent_labels = [i.label_ for i in dev_judgement_preds[0].ents]\n",
    "print(extracted_ent_labels)"
   ]
  },
  {
   "cell_type": "markdown",
   "metadata": {
    "id": "8agTmoRh5YCS"
   },
   "source": [
    "### Judgement text"
   ]
  },
  {
   "cell_type": "code",
   "execution_count": null,
   "metadata": {
    "id": "o1SMIWk14MKp"
   },
   "outputs": [],
   "source": [
    "judgment_text = 'Petitioner:\\nShiv Shakti Coop. Housing Society, Nagpur\\n\\nRespondent:\\nM/s. Swaraj Developers & Ors.\\n\\nDate Of Judgment : 17/04/2003 BENCH:\\nSHIVARAJ V. PATIL & ARIJIT PASAYAT.\\n\\nJUDGMENT:\\nJ U D G M E N T (Arising Out of S.L.P. (C) No. 19030 of 2002) WITH Civil Appeal No. 3489 [email protected] S.L.P.(C)No.19852/2002, Civil Appeal Nos.3494-98/[email protected] S.L.P.(C)Nos.22848-22852/2002, and Civil Appeal No. 3499/[email protected] S.L.P.(C) No.22009/2002] ARIJIT PASAYAT,J. \\n\\n Leave granted. \\n\\n A short but important question of law involving effect of amendment to Section 115 of the Code of Civil Procedure, 1908 (in short \\'the Code\\') is involved in these appeals. Since the answer to the question does not involve any factual adjudication, a brief reference thereto would suffice. \\n\\n By Section 12(i) of the Code of Civil Procedure (Amendment) Act, 1999 (in short \\'the Amendment Act\\') operative from 1.7.2002, amendments were made to Section 115 of the Code. In all these appeals, the concerned High Courts held that because of amended Section 115, the revision filed before them was not maintainable, as had an order been passed in favour of the party applying for revision, same would not have finally disposed of the suit or other proceeding. \\n\\n It has been contended by learned counsel for the appellants that the High Court went wrong in disposing of the revision applications as not maintainable, on several grounds. They are (i) the amended provisions do not apply to petitions which were admitted before the amendment, (ii) appeals and revisions stand on a parallel footing and are vested rights in the appellant/applicant, as the case may be, and as such the amended provisions would not have any application, and (iii) the applications for injunction and the like which form subject matter of the revisions relate to the expression \\'other proceeding\\' and even if the amended provisions apply disposal of the revision would have meant final dismissal of such \\'other proceeding\\'. \\n\\n With reference to Section 32(2)(i) of the Amendment Act, it is submitted that the same does not convey any meaning. The legislature always saved pending proceedings in terms of Section 6 of the General Clauses Act, 1897 (in short \\'General Clauses Act\\') and, therefore, proceedings which were pending before the High Court on the date of amendment are clearly outside the effect of amendment. Even if it is conceded for the sake of arguments that there is no specific provision in that regard, it is clearly a case of casus omissus. \\n\\n In response, learned counsel for the respondents submitted that plain meaning of provisions of a statute have to be given full effect and even a bare reading of the provisions makes it clear that the High Court\\'s order is on terra firma. Whenever the legislature intended to keep the pending proceedings out of the purview of amended provisions, it was specifically so provided. Reference is made to the amendment in 1976 to the Code which in Section 97(3) of the Code of Civil Procedure (Amendment) Act, 1976 (in short \\'Old Amendment Act\\') saved the pending proceedings, ruling out operation of Section 6 of the General Clauses Act. \\n\\n In order to appreciate the rival submissions it will be necessary to take note of the provisions of Section 115 as they stood before amendment and after amendment. \\n\\n \"Section 115 (before Amendment):\\n (1) The High Court may call for the record of any case which has been decided by any Court subordinate to such High Court and in which no appeal lies thereto, and if such subordinate court appears (a) to have exercised a jurisdiction not vested in it by law, or (b) to have failed to exercise a jurisdiction so vested, or (c) to have acted in the exercise of its jurisdiction illegally or with material irregularity, the High Court may make such order in the case as it thinks fit:\\nProvided that the High Court shall not, under this section, vary or reverse any order made, or any order deciding an issue, in the course of a suit or order proceeding, except where (a) the order, if it had been made in favour of the party applying for revision, would have finally disposed of the suit or other proceeding, or (b) the order, if allowed to stand, would occasion a failure of justice or cause irreparable injury to the party against whom it was made. \\n\\n(2) The High Court shall not, under this section, vary or reverse any decree or order against which an appeal lies either to the High Court or to any Court subordinate thereto. \\n\\nExplanation: In this section, the expression \"Any case which has been decided: includes any order made, or any order deciding an issue, in the course of a suit or other proceeding.\" \\n\\nSection 115 (after Amendment):\\n (1) The High Court may call for the record of any case which has been decided by any Court subordinate to such High Court and in which no appeal lies thereto, and if such subordinate court appears (a) to have exercised a jurisdiction not vested in it by law, or (b) to have failed to exercise a jurisdiction so vested. \\n\\n(c) to have acted in the exercise of its jurisdiction illegally or with material irregularity, the High Court may make such order in the case as it thinks fit:\\nProvided that the High Court shall not, under this section, vary or reverse any order made, or any order deciding an issue, in the course of a suit or order proceeding, except where the order, if it had been made in favour of the party applying for revision, would have finally disposed of the suit or other proceedings. \\n\\n(2) The High Court shall not, under this section, vary or reverse any decree or order against which an appeal lies either to the High Court or to any Court subordinate thereto. \\n\\n(3) A revision shall not operate as a stay of suit or other proceeding before the Court except where such suit or other proceeding is stayed by the High Court. \\n\\nExplanation: In this section, the expression \"any case which has been decided\" includes any order made, or any order deciding the issue, in the course of a suit or other proceeding.\" \\n\\n A comparison of two provisions shows that while proviso (a) of the un-amended provision has been retained in its totality, in the amended provisions clause (b) of the proviso has been omitted. \\n\\n It is to be noted that prior to the amendments to the Code by the Old Amendment Act, the power of revision was wider. By the amendment, certain positive restrictions were put on the High Court\\'s power to deal with revisions under Section 115. Prior to the said amendment, it was not strictly necessary that the impugned order would have the result of finally deciding the lis or the proceedings in the lower courts. In fact, the power could be exercised in any case where jurisdictional error was committed by the original court or where substantial injustice had resulted. By the Old Amendment Act, the condition of finally deciding of lis and the proceedings in the subordinate courts was introduced. The proviso which was introduced contains qualifications which are pre-requisites before exercise of power under Section 115. They were clauses (a) and (b) of the proviso. Logically, the High Court has suo motu power to revise an order where total failure of justice would have occasioned or where irreparable loss would have caused to the parties against whom it was made. These powers were retained by clause (b). Though, after 1976, the exercise of power was somewhat circumscribed, it was not totally curtailed. In other words, the High Court could even after the 1976 amendment interfere in cases where there was failure of justice or irreparable loss caused, the nature of the proceedings was substantially changed and the suo motu power of the High Court was retained. It was in the nature of power of superintendence of the High Court over the subordinate courts. Changes were related to indicating limitations in exercise of power. \\n\\n Even after the amendments in 1976, in 1999 and prior to the amendment in 1976, the revision power was exercisable in a case where the order or the decree, as the case may be, was not appealable. \\n\\n Sub-section (2) which was introduced by the Old Amendment Act and retained even after present amendment, provides that the High Court shall not interfere where the order or the decree is appealable in courts subordinate to the High Court. \\n\\n It is interesting to note that the Law Commission of India had recommended deletion of Section 115. In the Law Commission\\'s opinion, provisions of Section 115 are analogous to provisions of Article 227 of the Constitution of India, 1950 (in short \\'the Constitution\\') and the litigants would not be prejudiced in any way if the entire Section is deleted. The Joint Committee of the Parliament discussed these recommendations and only thought it proper to make certain modifications in the Section. That led to amendment of Section 115 by Old Amendment Act. The deliberations of the Committee are reflected in the following words:\\n \"The Committee, however, feel; that, in addition to the restrictions contained in section 115, an overall restriction on the scope of applications for revision against interlocutory orders should be imposed. Having regard to the recommendations made by the Law Commission in its Fourteenth and Twenty-Seventh Reports, the Committee recommended that Section 115 of the Code should be retained subject to the modification that no revision application shall lie against an interlocutory order unless either of the following conditions is satisfied, namely:-\\ni. that if the orders were made in favour of the applicant, it would finally dispose of the suit or other proceeding; or ii. that the order, if allowed to stand, is likely to occasion a failure of justice or cause in irreparable injury.\" \\n\\n First aspect that has to be considered is the respective scope of appeal and revision. It is fairly a well settled position in law that the right of appeal is a substantive right. But there is no such substantive right in making an application under Section 115. Though great emphasis was laid on certain observations in Shankar Ramchandra Abhyankar v. Krishnaji Dattatraya Bapat (AIR 1970 SC 1) to contend that appeal and revision stand on the same pedestal, it is difficult to accept the proposition. The observations in the said case are being read out of context. What was held in that case related to the exercise of power of a higher court, and in that context the nature of consideration in appeal and revision was referred to. It was never held in that case that appeal is equated to a revision. \\n\\n Section 115 is essentially a source of power for the High Court to supervise the subordinate courts. It does not in any way confer a right on a litigant aggrieved by any order of the subordinate court to approach the High Court for relief. The scope for making a revision under Section 115 is not linked with a substantive right. \\n\\nLanguage of Sections 96 and 100 of the Code which deal with appeals can be compared with Section 115 of the Code. While in the former two provisions specifically provide for right of appeal, the same is not the position vis--vis section 115. It does not speak of an application being made by a person aggrieved by an order of subordinate court. As noted above, it is a source of power of the High Court to have effective control on the functioning of the subordinate courts by exercising supervisory power. \\n\\n An appeal is essentially continuation of the original proceedings and the provisions applied at the time of institution of the suit are to be operative even in respect of the appeals. That is because there is a vested right in the litigant to avail the remedy of an appeal. As was observed in K. Eapen Chako v. The Provident Investment Company (P) Ltd. (AIR 1976 SC 2610) only in cases where vested rights are involved, a legislation has to be interpreted to mean as one affecting such right to be prospectively operative. The right of appeal is only by statute. It is necessary part of the procedure in an action, but \"the right of entering a superior court and invoking its aid and interposition to redress the error of the courts below. It seems to this paramount right, part of the progress of the inferior tribunal.\" (Per Westbury See: AG vs. SILLEM 33 J.Ex 209). The appeal, strictly so called, is one in which the question is, whether the order of the Court from which the appeal is brought was right on the materials which that Court had before it\" (Per Lord Devuil Ponnamal vs. Arumogam 1905 AC 390). The right of appeal, where it exists, as a matter of substance and not of procedure (Colonial Sugar Refining Company vs. Irtin 1905 AC 368). \\n\\nRight of appeal is statutory. Right of appeal inherits in no one. When conferred by statute it becomes a vested right. In this regard there is essential distinction between right of appeal and right of suit. Where there is inherent right in every person to file a suit and for its maintainability it requires no authority of law, appeal requires so. As was observed in The State of Kerala vs. K.M. Charia Abdulla and Co. (AIR 1965 SC 1585), the distinction between right of appeal and revision is based on differences implicit in the two expressions. An appeal is continuation of the proceedings; in effect the entire proceedings are before the appellate authority and it has power to review the evidence subject to statutory limitations prescribed. But in the case of revision, whatever powers the revisional authority may or may not have, it has no power to review the evidence, unless the statute expressly confers on it that power. It was noted by the four-Judges Bench in Hari Shankar and others vs. Rao Girdhari Lal Chowdhury (AIR 1963 SC 698) that the distinction between an appeal and a revision is a real one. A right of appeal carries with it a right of re-hearing on law as well as fact, unless the statute conferring the right of appeal limits the re-hearing in some way, as has been done in second appeals arising under the Code. The power of hearing revision is generally given to a superior Court so that it may satisfy itself that a particular case has been decided according to law. Reference was made to Section 115 of the Code to hold that the High Court\\'s powers under the said provision are limited to certain particular categories of cases. The right there is confined to jurisdiction and jurisdiction alone. \\n\\nAs regards the field of operation of amended provision, it is to be noted that the language of amended provision is clear. \\n\\n It is well settled principle in law that the Court cannot read anything into a statutory provision which is plain and unambiguous. A statute is an edict of the Legislature. The language employed in a statute is the determinative factor of legislative intent. Words and phrases are symbols that stimulate mental references to referents. The object of interpreting a statute is to ascertain the intention of the Legislature enacting it. (See Institute of Chartered Accountants of India v. M/s Price Waterhouse and Anr. (AIR 1998 SC 74)) The intention of the Legislature is primarily to be gathered from the language used, which means that attention should be paid to what has been said as also to what has not been said. As a consequence, a construction which requires for its support, addition or substitution of words or which results in rejection of words as meaningless has to be avoided. As observed in Crawford v. Spooner (1846 (6) Moore PC 1), Courts, cannot aid the Legislatures\\' defective phrasing of an Act, we cannot add or mend, and by construction make up deficiencies which are left there. (See The State of Gujarat and Ors. v. Dilipbhai Nathjibhai Patel and Anr. (JT 1998 (2) SC 253)). It is contrary to all rules of construction to read words into an Act unless it is absolutely necessary to do so. (See Stock v. Frank Jones (Tiptan) Ltd. (1978 1 All ER 948 (HL). Rules of interpretation do not permit Courts to do so, unless the provision as it stands is meaningless or of doubtful meaning. Courts are not entitled to read words into an Act of Parliament unless clear reason for it is to be found within the four corners of the Act itself. (Per Lord Loreburn L.C. in Vickers Sons and Maxim Ltd. v. Evans (1910) AC 445 (HL), quoted in Jamma Masjid, Mercara v. Kodimaniandra Deviah and Ors.(AIR 1962 SC 847). \\n\\nThe question is not what may be supposed and has been intended but what has been said. \"Statutes should be construed not as theorems of Euclid\". Judge Learned Hand said, \"but words must be construed with some imagination of the purposes which lie behind them\". (See Lenigh Valley Coal Co. v. Yensavage 218 FR 547). The view was re-iterated in Union of India and Ors. v. Filip Tiago De Gama of Vedem Vasco De Gama (AIR 1990 SC 981). \\n\\nIn Dr. R. Venkatchalam and Ors. etc. v. Dy. Transport Commissioner and Ors. etc. (AIR 1977 SC 842), it was observed that Courts must avoid the danger of apriori determination of the meaning of a provision based on their own pre-conceived notions of ideological structure or scheme into which the provision to be interpreted is somewhat fitted. They are not entitled to usurp legislative function under the disguise of interpretation. \\n\\nWhile interpreting a provision the Court only interprets the law and cannot legislate it. If a provision of law is misused and subjected to the abuse of process of law, it is for the legislature to amend, modify or repeal it, if deemed necessary. (See Commissioner of Sales Tax, M.P. v. Popular Trading Company, Ujjain (2000 (5) SCC 515). The legislative casus omissus cannot be supplied by judicial interpretative process. \\n\\nTwo principles of construction one relating to casus omissus and the other in regard to reading the statute as a whole appear to be well settled. Under the first principle a casus omissus cannot be supplied by the Court except in the case of clear necessity and when reason for it is found in the four corners of the statute itself but at the same time a casus omissus should not be readily inferred and for that purpose all the parts of a statute or section must be construed together and every clause of a section should be construed with reference to the context and other clauses thereof so that the construction to be put on a particular provision makes a consistent enactment of the whole statute. This would be more so if literal construction of a particular clause leads to manifestly absurd or anomalous results which could not have been intended by the Legislature. \"An intention to produce an unreasonable result\", said Danackwerts, L.J. in Artemiou v. Procopiou (1966 1 QB 878), \"is not to be imputed to a statute if there is some other construction available\". Where to apply words literally would \"defeat the obvious intention of the legislation and produce a wholly unreasonable result\" we must \"do some violence to the words\" and so achieve that obvious intention and produce a rational construction. (Per Lord Reid in Luke v. IRC (1966 AC 557) where at p. 577 he also observed: \"this is not a new problem, though our standard of drafting is such that it rarely emerges\". It is then true that, \"when the words of a law extend not to an inconvenience rarely happening, but do to those which often happen, it is good reason not to strain the words further than they reach, by saying it is casus omissus, and that the law intended quae frequentius accidunt.\" \"But,\" on the other hand,\"it is no reason, when the words of a law do enough extend to an inconvenience seldom happening, that they should not extend to it as well as if it happened more frequently, because it happens but seldom\" (See Fenton v. Hampton 11 Moore, P.C. 345). A casus omissus ought not to be created by interpretation, save in some case of strong necessity. Where, however, a casus omissus does really occur, either through the inadvertence of the legislature, or on the principle quod semel aut bis existit proetereunt legislatores, the rule is that the particular case, thus left unprovided for, must be disposed of according to the law as it existed before such statute - Casus omissus et oblivioni datus dispositioni communis juris relinquitur; \"a casus omissus,\" observed Buller, J. in Jones v. Smart (1 T.R. 52), \"can in no case be supplied by a court of law, for that would be to make laws.\" \\n\\nThe golden rule for construing wills, statutes, and, in fact, all written instruments has been thus stated: \"The grammatical and ordinary sense of the words is to be adhered to unless that would lead to some absurdity or some repugnance or inconsistency with the rest of the instrument, in which case the grammatical and ordinary sense of the words may be modified, so as to avoid that absurdity and inconsistency, but no further\" (See Grey v. Pearson 6 H.L. Cas. 61). The latter part of this \"golden rule\" must, however, be applied with much caution. \"if,\" remarked Jervis, C.J., \"the precise words used are plain and unambiguous in our judgment, we are bound to construe them in their ordinary sense, even though it lead, in our view of the case, to an absurdity or manifest injustice. Words may be modified or varied where their import is doubtful or obscure. But we assume the functions of legislators when we depart from the ordinary meaning of the precise words used, merely because we see, or fancy we see, an absurdity or manifest injustice from an adherence to their literal meaning\" (See Abley v. Dale 11, C.B. 378). \\n\\nAt this juncture, it would be necessary to take note of a maxim \"Ad ea quae frequentius accidunt jura adaptantur\" (The laws are adapted to those cases which more frequently occur). \\n\\nLaws ought to be, and usually are, framed with a view to such cases as are of frequent rather than such as are of rare or accidental occurrence; or, in the language of the civil law, jus constitui oportet in his quoe ut plurimum accidunt, non quoe ex inopinato; for, neque leges neque senatusconsulta ita scribi possunt ut omnes casus qui quandoque inciderint comprehendantur, sed sufficit ea quoe plerumque accident contineri; laws cannot be so worded as to include every case which may arise, but it is sufficient if they apply to those things which most frequently happen. All legislation proceeds upon the principle of providing for the ordinary course of things, and to this principle frequent reference is to be found, in the reports, in answer to arguments, often speciously advanced, that the words of an Act cannot have a particular meaning, because in a certain contingency that meaning might work a result of which nobody would approve. In Miller v. Salomons (7 Exch. 475) it was argued that Parliament could not have intended that a Jew, before sitting in the House of Commons, must use the words \"on the true faith of a Christian,\" prescribed in the oath of abjuration of 6 Geo. 3, c.53, because any person, refusing to take the same oath when tendered by two justices, would, under the 1 Geo. 1, st.2, c.13, be deemed to be a popish recusant, and would be liable to penalties as such; and to enforce these provisions against a Jew, it was said, would be the merest tyranny. But Baron Parke thus replied to this argument: -\"If in the vast majority of possible cases in all of ordinary occurrence the law is in no degree inconsistent or unreasonable construed according to its plain words, it seems to me to be an untenable proposition, and unsupported by authority, to say that the construction may be varied in every case, because there is one possible but highly improbably one in which the law would operate with great severity, and against our own notions of justice. The utmost that can be reasonably contended is, that it should be varied in that particular case, so as to obviate that injustice no further.\" \\n\\nAppeal is the right of entering a superior Court and invoking its aid and interposition to redress the error of the court below. (per Westbury C., A.G. v. Sillem, 10 HLC 704 = 33 LJ ex.209). \\n\\n\"Appeal\", is defined in the Oxford Dictionary, volume I, page 398, as the transference of a case from an inferior to a higher Court or tribunal in the hope of reversing or modifying the decision of the former. In the Law Dictionary by Sweet, the term \"appeal\" is defined as a proceeding taken to rectify an erroneous decision of a Court by submitting the question to a higher Court or Court of appeal, and it is added that the term, therefore, includes, in addition to the proceedings specifically so called, the cases stated for the opinion of the Queen\\'s Bench Division and the Court of Crown Cases reserved, and proceedings in error. In the Law Dictionary by Bouvier an appeal is defined as the removal of a case from a Court of inferior to one of superior jurisdiction for the purpose of obtaining a review and re-trial, and it is explained that in its technical sense it differs from a writ of error in this, that it subjects both the law and the facts to a review and re- trial, while the latter is a Common Law process which involves matter of law only for re-examination; it is added, however, that the term \"appeal\" is used in a comprehensive sense so as to include both what is described technically as an appeal and also the common law writ of error. As Mr. Justice Subramania Ayyar observes in Chappan v. Moidin, 22 Mad 68 at p.80 the two things which are required to constitute appellate jurisdiction are the existence of the relation of superior and inferior Court and the power, on the part of the former, to review decisions of the latter. \\n\\n Sub-section (2) of Section 115 has remained unaltered even after the amendment by the Amendment Act. A new sub- section (3) has been added in Section 115 by the Amendment Act which states that revision shall not operate as a stay of suit or other proceeding before the Court except where such suit or other proceeding is stayed by the High Court. \\n\\n In Section 2, the expressions \\'decree\\' and \\'order\\' have been defined in clauses (2) and (14) respectively. It is to be noted that it matters little that the judgment is styled as an \"order\". If, in fact, it fulfils the conditions of the definition under Section 2(2), it is a decree and becomes appealable. Orders that are not appealable are, generally speaking, those which are procussual i.e. interlocutory or incidental orders regulating proceedings but not deciding any of the matters of controversy in the suit. Order 43 deals with the \"appeals from orders\". These appeals lie under Section 104 of the Code. The said Section deals with appeals from orders and specifies the orders from which appeals can lie. Sub-section (2) of Section 104 says that no appeal shall lie from any order passed in appeal under the said Section. Section 104 and Order 43 Rule I contain a full list of appealable orders. An order which amounts to a decree within Section 2(2) does not fall within Section 104 and the only applicable section is Section 96. Clauses (a) to (f) of Section 104 were omitted by Arbitration Act 1940. Section 105 relates to other orders. It, inter alia, relates to any order i.e. so appealable as well as non-appelable orders. It is in the nature of a prohibition stipulating that save as otherwise expressly provided, no appeal shall lie from any order made by a Court in exercise of original or appellate jurisdiction; but where a decree is appealed from, any error, defect or irregularity in any order, affecting the decision of the case, may be set forth as a ground of objection in the memorandum of appeal. Sub-section (2) deals with case of remand. This section, in fact, contemplates two things i.e. (1) regular appeal from decree; and (2) the provision relating to grant of objection relating to interim order. Order 43 Rule 1 is an integral part of Section 104. \\n\\nA plain reading of Section 115 as it stands makes it clear that the stress is on the question whether the order in favour of the party applying for revision would have given finality to suit or other proceeding. If the answer is \\'yes\\' then the revision is maintainable. But on the contrary, if the answer is \\'no\\' then the revision is not maintainable. Therefore, if the impugned order is of interim in nature or does not finally decide the lis, the revision will not be maintainable. The legislative intent is crystal clear. Those orders, which are interim in nature, cannot be the subject matter of revision under Section 115. There is marked distinction in language of Section 97(3) of the Old Amendment Act and Section 32(2)(i) of the Amendment Act. While in the former, there was clear legislative intent to save applications admitted or pending before the amendment came into force. Such an intent is significantly absent in Section 32(2)(i). The amendment relates to procedures. No person has a vested right in a course of procedure. He has only the right of proceeding in the manner prescribed. If by a statutory change the mode of procedure is altered the parties are to proceed according to the altered mode, without exception, unless there is a different stipulation. \\n\\n Section 6 of the General Clauses Act has no application because there is no substantive vested right available to a party seeking revision under Section 115 of the Code. In Kolhapur Canesugar Works Ltd. and another vs. Union of India and others (AIR 2000 SC 811), it was observed that if a provision of statute is unconditionally omitted without a saving clause in favour of pending proceedings, all actions must stop where the omission finds them, and if final relief has not been granted before the omission goes into effect, there is no scope for granting it afterwards. There is modification of this position by application of Section 6 of the General Clauses Act or by making special provisions. Operation of repeal or deletion as to the future and the past largely depends on the savings applicable. In a case where a particular provision in the statute is omitted and in its place another provision dealing with the same contingency is introduced without a saving clause in favour of pending proceedings, then it can be reasonably inferred that the intention of the legislature is that the pending proceedings shall continue but a fresh proceeding for the same purpose may be initiated under the new provision. \\n\\n In view of what has been stated above the inevitable conclusion is that the High Courts were right in the conclusion about non-maintainability of revision applications. \\n\\n It was submitted by learned counsel for the appellants that even if the revision applications are held to be not maintainable, there should not be a bar on challenge being made under Section 227 of the Constitution. It was submitted that an opportunity may be granted to the appellants to avail the remedy. \\n\\n If any remedy is available to a party under any statute no liberty is necessary to be granted for availing the same. If the appellants avail such remedy, the same shall be dealt with in accordance with law. \\n\\n The appeals are dismissed. No costs.'"
   ]
  },
  {
   "cell_type": "markdown",
   "metadata": {
    "id": "kG8jISmD5dy7"
   },
   "source": [
    "### Get predictions on Judgement text"
   ]
  },
  {
   "cell_type": "code",
   "execution_count": null,
   "metadata": {
    "colab": {
     "base_uri": "https://localhost:8080/"
    },
    "id": "m9-Wa-1qyE0H",
    "outputId": "c810460f-bc4e-4ec1-df28-ae553e7f7b1a"
   },
   "outputs": [
    {
     "name": "stdout",
     "output_type": "stream",
     "text": [
      "Seperating Preamble took 0.028639793395996094\n"
     ]
    },
    {
     "name": "stderr",
     "output_type": "stream",
     "text": [
      "/content/legal_NER/data_preparation.py:261: UserWarning: [W101] Skipping Doc custom extension 'trf_data' while merging docs.\n",
      "  combined_docs=spacy.tokens.Doc.from_docs(docs)\n"
     ]
    },
    {
     "name": "stdout",
     "output_type": "stream",
     "text": [
      "Creating doc for jdgement  took 30.010979413986206\n",
      "124\n",
      "Creating doc for preamble  took 0.23296070098876953\n",
      "Combining took 0.011335134506225586\n"
     ]
    },
    {
     "name": "stderr",
     "output_type": "stream",
     "text": [
      "/content/legal_NER/legal_ner.py:39: UserWarning: [W101] Skipping Doc custom extension 'trf_data' while merging docs.\n",
      "  combined_doc = spacy.tokens.Doc.from_docs([doc_preamble, doc_judgment])\n"
     ]
    },
    {
     "name": "stdout",
     "output_type": "stream",
     "text": [
      "['PETITIONER', 'LAWYER', 'GPE', 'JUDGE', 'PROVISION', 'PRECEDENT', 'OTHER_PERSON', 'STATUTE', 'DATE', 'CASE_NUMBER', 'ORG', 'RESPONDENT']\n"
     ]
    }
   ],
   "source": [
    "run_type='sent' ###  trade off between accuracy and runtime\n",
    "combined_doc = extract_entities_from_judgment_text(judgment_text,legal_nlp,preamble_spiltting_nlp,run_type,do_postprocess=True)\n",
    "\n",
    "########### visualize the entities\n",
    "extracted_ent_labels = list(set([i.label_ for i in combined_doc.ents]))\n",
    "print(extracted_ent_labels)\n",
    "options = {\"colors\": {\"PETITIONER\": \"yellow\", \"RESPONDENT\": \"green\", \"JUDGE\": \"pink\", \"WITNESS\": \"purple\", \"LAWYER\": \"red\",\n",
    "               \"OTHER_PERSON\": \"cyan\",\n",
    "               \"PETITIONER_match\": \"yellow\", \"RESPONDENT_match\": \"green\", \"JUDGE_match\": \"pink\",\n",
    "               \"WITNESS_match\": \"purple\", \"LAWYER_match\": \"red\",\n",
    "               \"PROVISION\": \"#33E9FF\", \"STATUTE\": \"#1C4D53\", \"GPE\": \"#A6A82F\", \"ORG\": \"#603255\", \"COURT\": \"#56A065\",\n",
    "               \"DATE\": \"#804538\", \"CASE_NUMBER\": \"#71326E\"}}\n"
   ]
  },
  {
   "cell_type": "markdown",
   "metadata": {
    "id": "ym8iixEApRDK"
   },
   "source": [
    "### Get Predictions on Training Data Text"
   ]
  },
  {
   "cell_type": "code",
   "execution_count": null,
   "metadata": {
    "id": "RkSZgjXnuI9a"
   },
   "outputs": [],
   "source": [
    "!wget -qO- -O stopwords_english.txt \\\n",
    "         https://raw.githubusercontent.com/pan-webis-de/authorid/master/data/stopwords_english.txt\n"
   ]
  },
  {
   "cell_type": "code",
   "execution_count": null,
   "metadata": {
    "colab": {
     "base_uri": "https://localhost:8080/"
    },
    "id": "jXLf8a6tuuQo",
    "outputId": "baddfcc7-8347-457e-b329-37647a7ad19c"
   },
   "outputs": [
    {
     "name": "stdout",
     "output_type": "stream",
     "text": [
      "Looking in indexes: https://pypi.org/simple, https://us-python.pkg.dev/colab-wheels/public/simple/\n",
      "Collecting contractions\n",
      "  Downloading contractions-0.1.73-py2.py3-none-any.whl (8.7 kB)\n",
      "Collecting textsearch>=0.0.21\n",
      "  Downloading textsearch-0.0.24-py2.py3-none-any.whl (7.6 kB)\n",
      "Collecting pyahocorasick\n",
      "  Downloading pyahocorasick-1.4.4-cp38-cp38-manylinux_2_17_x86_64.manylinux2014_x86_64.whl (110 kB)\n",
      "\u001b[K     |████████████████████████████████| 110 kB 39.8 MB/s \n",
      "\u001b[?25hCollecting anyascii\n",
      "  Downloading anyascii-0.3.1-py3-none-any.whl (287 kB)\n",
      "\u001b[K     |████████████████████████████████| 287 kB 61.1 MB/s \n",
      "\u001b[?25hInstalling collected packages: pyahocorasick, anyascii, textsearch, contractions\n",
      "Successfully installed anyascii-0.3.1 contractions-0.1.73 pyahocorasick-1.4.4 textsearch-0.0.24\n"
     ]
    }
   ],
   "source": [
    "pip install contractions"
   ]
  },
  {
   "cell_type": "code",
   "execution_count": null,
   "metadata": {
    "id": "wCg3AFszuL4P"
   },
   "outputs": [],
   "source": [
    "import codecs\n",
    "stopwords = []\n",
    "for line in codecs.open('stopwords_english.txt', encoding = \"utf-8\"):\n",
    "    # Remove black space if they exist\n",
    "    stopwords.append(line.strip())\n",
    "stopwords = dict.fromkeys(stopwords, True)"
   ]
  },
  {
   "cell_type": "code",
   "execution_count": null,
   "metadata": {
    "id": "DtrCUBHPpPtB"
   },
   "outputs": [],
   "source": [
    "import re\n",
    "import os\n",
    "import nltk\n",
    "import string\n",
    "from sklearn.feature_extraction.text import TfidfVectorizer\n",
    "import contractions\n",
    "\n",
    "\n",
    "\n",
    "def remove_special_chars(text): # sin_especiales\n",
    "  regex = '[' + string.punctuation + '\\t\\n¿,.–¡”“\"]'  \n",
    "  text = re.sub(regex, \"\", text)\n",
    "\n",
    "  # remove spaces\n",
    "  text = re.sub(r'\\s+', ' ', text).strip()\n",
    "\n",
    "  # convert to lowercase\n",
    "  text = text.lower()\n",
    "\n",
    "  clean_text = text\n",
    "  return clean_text\n",
    "\n",
    "def change_contract_words(text: str) -> str:  # sin_contracciones\n",
    "  # you're -> you are\n",
    "  expanded_words = [contractions.fix(word) for word in text.split(\" \")]\n",
    "  return \" \".join(expanded_words)  \n",
    "\n",
    "\n",
    "def remove_stopwords(text: str) -> str:\n",
    "  \n",
    "  tokens = nltk.word_tokenize(text)\n",
    "  without_stopwords = [word for word in tokens \n",
    "                       if not stopwords.get(word.lower().strip(), False)]\n",
    "  return \" \".join(without_stopwords)  \n",
    "\n",
    "def clean_text(text):\n",
    "  return remove_stopwords(change_contract_words(change_contract_words(remove_special_chars(text))))\n",
    "  \n",
    "# run_type='sent' ###  trade off between accuracy and runtime\n",
    "# for i in list(df_train_preamble)[:10]:\n",
    "#   #combined_doc = extract_entities_from_judgment_text(''.join(df_train_preamble[i].tolist()),legal_nlp,preamble_spiltting_nlp,run_type,do_postprocess=True)\n",
    "#   print(df_train_preamble[i].tolist())\n",
    "########### visualize the entities\n",
    "# extracted_ent_labels = list(set([i.label_ for i in combined_doc.ents]))\n",
    "# print(extracted_ent_labels)"
   ]
  },
  {
   "cell_type": "code",
   "execution_count": null,
   "metadata": {
    "colab": {
     "base_uri": "https://localhost:8080/"
    },
    "id": "_mTRoDH3uOig",
    "outputId": "92acf90c-431e-46af-b66d-47f97e334579"
   },
   "outputs": [
    {
     "data": {
      "text/plain": [
       "0               High Court Of Kerala At Ernakulam\n",
       "1                                      T.R.Ajayan\n",
       "2                                     M.Ravindran\n",
       "3                                  Nirmala Dinesh\n",
       "4                                         A.Kumar\n",
       "                           ...                   \n",
       "12474                                     V. Nath\n",
       "12475        Automobile Transport(Rajasthan) Ltd.\n",
       "12476                          State Of Rajasthan\n",
       "12477    East India COMMERClAL Co., Ltd. Calcutta\n",
       "12478              Collector Of Customs, Calcutta\n",
       "Name: text, Length: 12479, dtype: object"
      ]
     },
     "execution_count": 21,
     "metadata": {},
     "output_type": "execute_result"
    }
   ],
   "source": [
    "df_train_preamble['text']"
   ]
  },
  {
   "cell_type": "code",
   "execution_count": null,
   "metadata": {
    "colab": {
     "base_uri": "https://localhost:8080/"
    },
    "id": "5NGBBjjCvDXR",
    "outputId": "84052441-11ca-4dd9-fd3c-be7ee9fa32f6"
   },
   "outputs": [
    {
     "data": {
      "text/plain": [
       "(12479, 8054)"
      ]
     },
     "execution_count": 26,
     "metadata": {},
     "output_type": "execute_result"
    }
   ],
   "source": [
    "corpus = df_train_preamble['text'].apply(clean_text).tolist()\n",
    "tfidf  = TfidfVectorizer()\n",
    "corpus = tfidf.fit_transform(corpus)\n",
    "\n",
    "corpus.shape"
   ]
  },
  {
   "cell_type": "code",
   "execution_count": null,
   "metadata": {
    "colab": {
     "base_uri": "https://localhost:8080/"
    },
    "id": "XrtS0ePWvPbh",
    "outputId": "c05bf7f9-35dd-4bf3-ac00-7b58f704e2ac"
   },
   "outputs": [
    {
     "data": {
      "text/plain": [
       "(12479,)"
      ]
     },
     "execution_count": 27,
     "metadata": {},
     "output_type": "execute_result"
    }
   ],
   "source": [
    "df_train_preamble['label'].values.shape"
   ]
  },
  {
   "cell_type": "code",
   "execution_count": null,
   "metadata": {
    "id": "D0Her2yOW5XO"
   },
   "outputs": [],
   "source": []
  },
  {
   "cell_type": "markdown",
   "metadata": {
    "id": "LX76ElYPnLcj"
   },
   "source": [
    "### save result to json"
   ]
  },
  {
   "cell_type": "code",
   "execution_count": null,
   "metadata": {
    "id": "WJx9z2q3nKO_"
   },
   "outputs": [],
   "source": [
    "with open('/content/output.json','w') as f:\n",
    "  json.dump(get_json_from_spacy_doc(combined_doc),f,indent=4)"
   ]
  },
  {
   "cell_type": "markdown",
   "metadata": {
    "id": "96Ov2egz5i0l"
   },
   "source": [
    "### Visualize results"
   ]
  },
  {
   "cell_type": "code",
   "execution_count": null,
   "metadata": {
    "colab": {
     "base_uri": "https://localhost:8080/",
     "height": 1000
    },
    "id": "BBL1pWvzzdzq",
    "outputId": "7cad2d13-51f9-4db7-bfae-d6eee7a3f5b7"
   },
   "outputs": [
    {
     "data": {
      "text/html": [
       "<span class=\"tex2jax_ignore\"><div class=\"entities\" style=\"line-height: 2.5; direction: ltr\">Petitioner:</br>\n",
       "<mark class=\"entity\" style=\"background: yellow; padding: 0.45em 0.6em; margin: 0 0.25em; line-height: 1; border-radius: 0.35em;\">\n",
       "    Shiv Shakti Coop. Housing Society, Nagpur\n",
       "    <span style=\"font-size: 0.8em; font-weight: bold; line-height: 1; border-radius: 0.35em; vertical-align: middle; margin-left: 0.5rem\">PETITIONER</span>\n",
       "</mark>\n",
       "</br></br>Respondent:</br>M/s. \n",
       "<mark class=\"entity\" style=\"background: green; padding: 0.45em 0.6em; margin: 0 0.25em; line-height: 1; border-radius: 0.35em;\">\n",
       "    Swaraj Developers\n",
       "    <span style=\"font-size: 0.8em; font-weight: bold; line-height: 1; border-radius: 0.35em; vertical-align: middle; margin-left: 0.5rem\">RESPONDENT</span>\n",
       "</mark>\n",
       " &amp; Ors.</br></br>Date Of Judgment : 17/04/2003 Bench:</br>\n",
       "<mark class=\"entity\" style=\"background: pink; padding: 0.45em 0.6em; margin: 0 0.25em; line-height: 1; border-radius: 0.35em;\">\n",
       "    Shivaraj V. Patil\n",
       "    <span style=\"font-size: 0.8em; font-weight: bold; line-height: 1; border-radius: 0.35em; vertical-align: middle; margin-left: 0.5rem\">JUDGE</span>\n",
       "</mark>\n",
       " &amp; \n",
       "<mark class=\"entity\" style=\"background: red; padding: 0.45em 0.6em; margin: 0 0.25em; line-height: 1; border-radius: 0.35em;\">\n",
       "    Arijit Pasayat\n",
       "    <span style=\"font-size: 0.8em; font-weight: bold; line-height: 1; border-radius: 0.35em; vertical-align: middle; margin-left: 0.5rem\">LAWYER</span>\n",
       "</mark>\n",
       ".</br></br>Judgment :</br>J U D G M E N T (Arising Out of \n",
       "<mark class=\"entity\" style=\"background: #71326E; padding: 0.45em 0.6em; margin: 0 0.25em; line-height: 1; border-radius: 0.35em;\">\n",
       "    S.L.P. (C) No. 19030 of 2002\n",
       "    <span style=\"font-size: 0.8em; font-weight: bold; line-height: 1; border-radius: 0.35em; vertical-align: middle; margin-left: 0.5rem\">CASE_NUMBER</span>\n",
       "</mark>\n",
       ") WITH \n",
       "<mark class=\"entity\" style=\"background: #71326E; padding: 0.45em 0.6em; margin: 0 0.25em; line-height: 1; border-radius: 0.35em;\">\n",
       "    Civil Appeal No. 3489\n",
       "    <span style=\"font-size: 0.8em; font-weight: bold; line-height: 1; border-radius: 0.35em; vertical-align: middle; margin-left: 0.5rem\">CASE_NUMBER</span>\n",
       "</mark>\n",
       " [email protected] \n",
       "<mark class=\"entity\" style=\"background: #71326E; padding: 0.45em 0.6em; margin: 0 0.25em; line-height: 1; border-radius: 0.35em;\">\n",
       "    S.L.P.(C)No.19852/2002\n",
       "    <span style=\"font-size: 0.8em; font-weight: bold; line-height: 1; border-radius: 0.35em; vertical-align: middle; margin-left: 0.5rem\">CASE_NUMBER</span>\n",
       "</mark>\n",
       ", \n",
       "<mark class=\"entity\" style=\"background: #71326E; padding: 0.45em 0.6em; margin: 0 0.25em; line-height: 1; border-radius: 0.35em;\">\n",
       "    Civil Appeal Nos.3494-98/[email\n",
       "    <span style=\"font-size: 0.8em; font-weight: bold; line-height: 1; border-radius: 0.35em; vertical-align: middle; margin-left: 0.5rem\">CASE_NUMBER</span>\n",
       "</mark>\n",
       " protected] \n",
       "<mark class=\"entity\" style=\"background: #71326E; padding: 0.45em 0.6em; margin: 0 0.25em; line-height: 1; border-radius: 0.35em;\">\n",
       "    S.L.P.(C)Nos.22848-22852/2002\n",
       "    <span style=\"font-size: 0.8em; font-weight: bold; line-height: 1; border-radius: 0.35em; vertical-align: middle; margin-left: 0.5rem\">CASE_NUMBER</span>\n",
       "</mark>\n",
       ", and \n",
       "<mark class=\"entity\" style=\"background: #71326E; padding: 0.45em 0.6em; margin: 0 0.25em; line-height: 1; border-radius: 0.35em;\">\n",
       "    Civil Appeal No. 3499/[email\n",
       "    <span style=\"font-size: 0.8em; font-weight: bold; line-height: 1; border-radius: 0.35em; vertical-align: middle; margin-left: 0.5rem\">CASE_NUMBER</span>\n",
       "</mark>\n",
       " protected] \n",
       "<mark class=\"entity\" style=\"background: #71326E; padding: 0.45em 0.6em; margin: 0 0.25em; line-height: 1; border-radius: 0.35em;\">\n",
       "    S.L.P.(C) No.22009/2002\n",
       "    <span style=\"font-size: 0.8em; font-weight: bold; line-height: 1; border-radius: 0.35em; vertical-align: middle; margin-left: 0.5rem\">CASE_NUMBER</span>\n",
       "</mark>\n",
       "] \n",
       "<mark class=\"entity\" style=\"background: pink; padding: 0.45em 0.6em; margin: 0 0.25em; line-height: 1; border-radius: 0.35em;\">\n",
       "    ARIJIT PASAYAT\n",
       "    <span style=\"font-size: 0.8em; font-weight: bold; line-height: 1; border-radius: 0.35em; vertical-align: middle; margin-left: 0.5rem\">JUDGE</span>\n",
       "</mark>\n",
       ",J. </br></br> Leave granted. </br></br> A short but important question of law involving effect of amendment to \n",
       "<mark class=\"entity\" style=\"background: #33E9FF; padding: 0.45em 0.6em; margin: 0 0.25em; line-height: 1; border-radius: 0.35em;\">\n",
       "    Section 115\n",
       "    <span style=\"font-size: 0.8em; font-weight: bold; line-height: 1; border-radius: 0.35em; vertical-align: middle; margin-left: 0.5rem\">PROVISION</span>\n",
       "</mark>\n",
       " of the \n",
       "<mark class=\"entity\" style=\"background: #1C4D53; padding: 0.45em 0.6em; margin: 0 0.25em; line-height: 1; border-radius: 0.35em;\">\n",
       "    Code of Civil Procedure, 1908\n",
       "    <span style=\"font-size: 0.8em; font-weight: bold; line-height: 1; border-radius: 0.35em; vertical-align: middle; margin-left: 0.5rem\">STATUTE</span>\n",
       "</mark>\n",
       " (in short 'the Code') is involved in these appeals. Since the answer to the question does not involve any factual adjudication, a brief reference thereto would suffice. </br></br> By \n",
       "<mark class=\"entity\" style=\"background: #33E9FF; padding: 0.45em 0.6em; margin: 0 0.25em; line-height: 1; border-radius: 0.35em;\">\n",
       "    Section 12(i)\n",
       "    <span style=\"font-size: 0.8em; font-weight: bold; line-height: 1; border-radius: 0.35em; vertical-align: middle; margin-left: 0.5rem\">PROVISION</span>\n",
       "</mark>\n",
       " of the \n",
       "<mark class=\"entity\" style=\"background: #1C4D53; padding: 0.45em 0.6em; margin: 0 0.25em; line-height: 1; border-radius: 0.35em;\">\n",
       "    Code of Civil Procedure (Amendment) Act, 1999\n",
       "    <span style=\"font-size: 0.8em; font-weight: bold; line-height: 1; border-radius: 0.35em; vertical-align: middle; margin-left: 0.5rem\">STATUTE</span>\n",
       "</mark>\n",
       " (in short 'the Amendment Act') operative from \n",
       "<mark class=\"entity\" style=\"background: #804538; padding: 0.45em 0.6em; margin: 0 0.25em; line-height: 1; border-radius: 0.35em;\">\n",
       "    1.7.2002\n",
       "    <span style=\"font-size: 0.8em; font-weight: bold; line-height: 1; border-radius: 0.35em; vertical-align: middle; margin-left: 0.5rem\">DATE</span>\n",
       "</mark>\n",
       ", amendments were made to \n",
       "<mark class=\"entity\" style=\"background: #33E9FF; padding: 0.45em 0.6em; margin: 0 0.25em; line-height: 1; border-radius: 0.35em;\">\n",
       "    Section 115\n",
       "    <span style=\"font-size: 0.8em; font-weight: bold; line-height: 1; border-radius: 0.35em; vertical-align: middle; margin-left: 0.5rem\">PROVISION</span>\n",
       "</mark>\n",
       " of the Code. In all these appeals, the concerned High Courts held that because of amended \n",
       "<mark class=\"entity\" style=\"background: #33E9FF; padding: 0.45em 0.6em; margin: 0 0.25em; line-height: 1; border-radius: 0.35em;\">\n",
       "    Section 115\n",
       "    <span style=\"font-size: 0.8em; font-weight: bold; line-height: 1; border-radius: 0.35em; vertical-align: middle; margin-left: 0.5rem\">PROVISION</span>\n",
       "</mark>\n",
       ", the revision filed before them was not maintainable, as had an order been passed in favour of the party applying for revision, same would not have finally disposed of the suit or other proceeding. </br></br> It has been contended by learned counsel for the appellants that the High Court went wrong in disposing of the revision applications as not maintainable, on several grounds. They are (i) the amended provisions do not apply to petitions which were admitted before the amendment, (ii) appeals and revisions stand on a parallel footing and are vested rights in the appellant/applicant, as the case may be, and as such the amended provisions would not have any application, and (iii) the applications for injunction and the like which form subject matter of the revisions relate to the expression 'other proceeding' and even if the amended provisions apply disposal of the revision would have meant final dismissal of such 'other proceeding'. </br></br> With reference to \n",
       "<mark class=\"entity\" style=\"background: #33E9FF; padding: 0.45em 0.6em; margin: 0 0.25em; line-height: 1; border-radius: 0.35em;\">\n",
       "    Section 32(2)(i)\n",
       "    <span style=\"font-size: 0.8em; font-weight: bold; line-height: 1; border-radius: 0.35em; vertical-align: middle; margin-left: 0.5rem\">PROVISION</span>\n",
       "</mark>\n",
       " of the Amendment Act, it is submitted that the same does not convey any meaning. The legislature always saved pending proceedings in terms of \n",
       "<mark class=\"entity\" style=\"background: #33E9FF; padding: 0.45em 0.6em; margin: 0 0.25em; line-height: 1; border-radius: 0.35em;\">\n",
       "    Section 6\n",
       "    <span style=\"font-size: 0.8em; font-weight: bold; line-height: 1; border-radius: 0.35em; vertical-align: middle; margin-left: 0.5rem\">PROVISION</span>\n",
       "</mark>\n",
       " of the \n",
       "<mark class=\"entity\" style=\"background: #1C4D53; padding: 0.45em 0.6em; margin: 0 0.25em; line-height: 1; border-radius: 0.35em;\">\n",
       "    General Clauses Act, 1897\n",
       "    <span style=\"font-size: 0.8em; font-weight: bold; line-height: 1; border-radius: 0.35em; vertical-align: middle; margin-left: 0.5rem\">STATUTE</span>\n",
       "</mark>\n",
       " (in short '\n",
       "<mark class=\"entity\" style=\"background: #1C4D53; padding: 0.45em 0.6em; margin: 0 0.25em; line-height: 1; border-radius: 0.35em;\">\n",
       "    General Clauses Act\n",
       "    <span style=\"font-size: 0.8em; font-weight: bold; line-height: 1; border-radius: 0.35em; vertical-align: middle; margin-left: 0.5rem\">STATUTE</span>\n",
       "</mark>\n",
       "') and, therefore, proceedings which were pending before the High Court on the date of amendment are clearly outside the effect of amendment. Even if it is conceded for the sake of arguments that there is no specific provision in that regard, it is clearly a case of casus omissus. </br></br> In response, learned counsel for the respondents submitted that plain meaning of provisions of a statute have to be given full effect and even a bare reading of the provisions makes it clear that the High Court's order is on terra firma. Whenever the legislature intended to keep the pending proceedings out of the purview of amended provisions, it was specifically so provided. Reference is made to the amendment in 1976 to the Code which in \n",
       "<mark class=\"entity\" style=\"background: #33E9FF; padding: 0.45em 0.6em; margin: 0 0.25em; line-height: 1; border-radius: 0.35em;\">\n",
       "    Section 97(3)\n",
       "    <span style=\"font-size: 0.8em; font-weight: bold; line-height: 1; border-radius: 0.35em; vertical-align: middle; margin-left: 0.5rem\">PROVISION</span>\n",
       "</mark>\n",
       " of the \n",
       "<mark class=\"entity\" style=\"background: #1C4D53; padding: 0.45em 0.6em; margin: 0 0.25em; line-height: 1; border-radius: 0.35em;\">\n",
       "    Code of Civil Procedure (Amendment) Act, 1976\n",
       "    <span style=\"font-size: 0.8em; font-weight: bold; line-height: 1; border-radius: 0.35em; vertical-align: middle; margin-left: 0.5rem\">STATUTE</span>\n",
       "</mark>\n",
       " (in short 'Old Amendment Act') saved the pending proceedings, ruling out operation of \n",
       "<mark class=\"entity\" style=\"background: #33E9FF; padding: 0.45em 0.6em; margin: 0 0.25em; line-height: 1; border-radius: 0.35em;\">\n",
       "    Section 6\n",
       "    <span style=\"font-size: 0.8em; font-weight: bold; line-height: 1; border-radius: 0.35em; vertical-align: middle; margin-left: 0.5rem\">PROVISION</span>\n",
       "</mark>\n",
       " of the \n",
       "<mark class=\"entity\" style=\"background: #1C4D53; padding: 0.45em 0.6em; margin: 0 0.25em; line-height: 1; border-radius: 0.35em;\">\n",
       "    General Clauses Act\n",
       "    <span style=\"font-size: 0.8em; font-weight: bold; line-height: 1; border-radius: 0.35em; vertical-align: middle; margin-left: 0.5rem\">STATUTE</span>\n",
       "</mark>\n",
       ". </br></br> In order to appreciate the rival submissions it will be necessary to take note of the provisions of \n",
       "<mark class=\"entity\" style=\"background: #33E9FF; padding: 0.45em 0.6em; margin: 0 0.25em; line-height: 1; border-radius: 0.35em;\">\n",
       "    Section 115\n",
       "    <span style=\"font-size: 0.8em; font-weight: bold; line-height: 1; border-radius: 0.35em; vertical-align: middle; margin-left: 0.5rem\">PROVISION</span>\n",
       "</mark>\n",
       " as they stood before amendment and after amendment. </br></br> &quot;\n",
       "<mark class=\"entity\" style=\"background: #33E9FF; padding: 0.45em 0.6em; margin: 0 0.25em; line-height: 1; border-radius: 0.35em;\">\n",
       "    Section 115\n",
       "    <span style=\"font-size: 0.8em; font-weight: bold; line-height: 1; border-radius: 0.35em; vertical-align: middle; margin-left: 0.5rem\">PROVISION</span>\n",
       "</mark>\n",
       " (before Amendment):</br> (1) The High Court may call for the record of any case which has been decided by any Court subordinate to such High Court and in which no appeal lies thereto, and if such subordinate court appears (a) to have exercised a jurisdiction not vested in it by law, or (b) to have failed to exercise a jurisdiction so vested, or (c) to have acted in the exercise of its jurisdiction illegally or with material irregularity, the High Court may make such order in the case as it thinks fit:</br>Provided that the High Court shall not, under this section, vary or reverse any order made, or any order deciding an issue, in the course of a suit or order proceeding, except where (a) the order, if it had been made in favour of the party applying for revision, would have finally disposed of the suit or other proceeding, or (b) the order, if allowed to stand, would occasion a failure of justice or cause irreparable injury to the party against whom it was made. </br></br>(2) The High Court shall not, under this section, vary or reverse any decree or order against which an appeal lies either to the High Court or to any Court subordinate thereto. </br></br>Explanation: In this section, the expression &quot;Any case which has been decided: includes any order made, or any order deciding an issue, in the course of a suit or other proceeding.&quot; </br></br>\n",
       "<mark class=\"entity\" style=\"background: #33E9FF; padding: 0.45em 0.6em; margin: 0 0.25em; line-height: 1; border-radius: 0.35em;\">\n",
       "    Section 115\n",
       "    <span style=\"font-size: 0.8em; font-weight: bold; line-height: 1; border-radius: 0.35em; vertical-align: middle; margin-left: 0.5rem\">PROVISION</span>\n",
       "</mark>\n",
       " (after Amendment):</br> (1) The High Court may call for the record of any case which has been decided by any Court subordinate to such High Court and in which no appeal lies thereto, and if such subordinate court appears (a) to have exercised a jurisdiction not vested in it by law, or (b) to have failed to exercise a jurisdiction so vested. </br></br>(c) to have acted in the exercise of its jurisdiction illegally or with material irregularity, the High Court may make such order in the case as it thinks fit:</br>Provided that the High Court shall not, under this section, vary or reverse any order made, or any order deciding an issue, in the course of a suit or order proceeding, except where the order, if it had been made in favour of the party applying for revision, would have finally disposed of the suit or other proceedings. </br></br>(2) The High Court shall not, under this section, vary or reverse any decree or order against which an appeal lies either to the High Court or to any Court subordinate thereto. </br></br>(3) A revision shall not operate as a stay of suit or other proceeding before the Court except where such suit or other proceeding is stayed by the High Court. </br></br>Explanation: In this section, the expression &quot;any case which has been decided&quot; includes any order made, or any order deciding the issue, in the course of a suit or other proceeding.&quot; </br></br> A comparison of two provisions shows that while \n",
       "<mark class=\"entity\" style=\"background: #33E9FF; padding: 0.45em 0.6em; margin: 0 0.25em; line-height: 1; border-radius: 0.35em;\">\n",
       "    proviso (a)\n",
       "    <span style=\"font-size: 0.8em; font-weight: bold; line-height: 1; border-radius: 0.35em; vertical-align: middle; margin-left: 0.5rem\">PROVISION</span>\n",
       "</mark>\n",
       " of the un-amended provision has been retained in its totality, in the amended provisions clause (b) of the proviso has been omitted. </br></br> It is to be noted that prior to the amendments to the Code by the Old Amendment Act, the power of revision was wider. By the amendment, certain positive restrictions were put on the High Court's power to deal with revisions under \n",
       "<mark class=\"entity\" style=\"background: #33E9FF; padding: 0.45em 0.6em; margin: 0 0.25em; line-height: 1; border-radius: 0.35em;\">\n",
       "    Section 115\n",
       "    <span style=\"font-size: 0.8em; font-weight: bold; line-height: 1; border-radius: 0.35em; vertical-align: middle; margin-left: 0.5rem\">PROVISION</span>\n",
       "</mark>\n",
       ". Prior to the said amendment, it was not strictly necessary that the impugned order would have the result of finally deciding the lis or the proceedings in the lower courts. In fact, the power could be exercised in any case where jurisdictional error was committed by the original court or where substantial injustice had resulted. By the Old Amendment Act, the condition of finally deciding of lis and the proceedings in the subordinate courts was introduced. The proviso which was introduced contains qualifications which are pre-requisites before exercise of power under \n",
       "<mark class=\"entity\" style=\"background: #33E9FF; padding: 0.45em 0.6em; margin: 0 0.25em; line-height: 1; border-radius: 0.35em;\">\n",
       "    Section 115\n",
       "    <span style=\"font-size: 0.8em; font-weight: bold; line-height: 1; border-radius: 0.35em; vertical-align: middle; margin-left: 0.5rem\">PROVISION</span>\n",
       "</mark>\n",
       ". They were clauses (a) and (b) of the proviso. Logically, the High Court has suo motu power to revise an order where total failure of justice would have occasioned or where irreparable loss would have caused to the parties against whom it was made. These powers were retained by clause (b). Though, after 1976, the exercise of power was somewhat circumscribed, it was not totally curtailed. In other words, the High Court could even after the 1976 amendment interfere in cases where there was failure of justice or irreparable loss caused, the nature of the proceedings was substantially changed and the suo motu power of the High Court was retained. It was in the nature of power of superintendence of the High Court over the subordinate courts. Changes were related to indicating limitations in exercise of power. </br></br> Even after the amendments in 1976, in 1999 and prior to the amendment in 1976, the revision power was exercisable in a case where the order or the decree, as the case may be, was not appealable. </br></br> Sub-section (2) which was introduced by the Old Amendment Act and retained even after present amendment, provides that the High Court shall not interfere where the order or the decree is appealable in courts subordinate to the High Court. </br></br> It is interesting to note that the \n",
       "<mark class=\"entity\" style=\"background: #603255; padding: 0.45em 0.6em; margin: 0 0.25em; line-height: 1; border-radius: 0.35em;\">\n",
       "    Law Commission of India\n",
       "    <span style=\"font-size: 0.8em; font-weight: bold; line-height: 1; border-radius: 0.35em; vertical-align: middle; margin-left: 0.5rem\">ORG</span>\n",
       "</mark>\n",
       " had recommended deletion of \n",
       "<mark class=\"entity\" style=\"background: #33E9FF; padding: 0.45em 0.6em; margin: 0 0.25em; line-height: 1; border-radius: 0.35em;\">\n",
       "    Section 115\n",
       "    <span style=\"font-size: 0.8em; font-weight: bold; line-height: 1; border-radius: 0.35em; vertical-align: middle; margin-left: 0.5rem\">PROVISION</span>\n",
       "</mark>\n",
       ". In the Law Commission's opinion, provisions of \n",
       "<mark class=\"entity\" style=\"background: #33E9FF; padding: 0.45em 0.6em; margin: 0 0.25em; line-height: 1; border-radius: 0.35em;\">\n",
       "    Section 115\n",
       "    <span style=\"font-size: 0.8em; font-weight: bold; line-height: 1; border-radius: 0.35em; vertical-align: middle; margin-left: 0.5rem\">PROVISION</span>\n",
       "</mark>\n",
       " are analogous to provisions of \n",
       "<mark class=\"entity\" style=\"background: #33E9FF; padding: 0.45em 0.6em; margin: 0 0.25em; line-height: 1; border-radius: 0.35em;\">\n",
       "    Article 227\n",
       "    <span style=\"font-size: 0.8em; font-weight: bold; line-height: 1; border-radius: 0.35em; vertical-align: middle; margin-left: 0.5rem\">PROVISION</span>\n",
       "</mark>\n",
       " of the \n",
       "<mark class=\"entity\" style=\"background: #1C4D53; padding: 0.45em 0.6em; margin: 0 0.25em; line-height: 1; border-radius: 0.35em;\">\n",
       "    Constitution of India, 1950\n",
       "    <span style=\"font-size: 0.8em; font-weight: bold; line-height: 1; border-radius: 0.35em; vertical-align: middle; margin-left: 0.5rem\">STATUTE</span>\n",
       "</mark>\n",
       " (in short 'the \n",
       "<mark class=\"entity\" style=\"background: #1C4D53; padding: 0.45em 0.6em; margin: 0 0.25em; line-height: 1; border-radius: 0.35em;\">\n",
       "    Constitution\n",
       "    <span style=\"font-size: 0.8em; font-weight: bold; line-height: 1; border-radius: 0.35em; vertical-align: middle; margin-left: 0.5rem\">STATUTE</span>\n",
       "</mark>\n",
       "') and the litigants would not be prejudiced in any way if the entire Section is deleted. The Joint Committee of the \n",
       "<mark class=\"entity\" style=\"background: #603255; padding: 0.45em 0.6em; margin: 0 0.25em; line-height: 1; border-radius: 0.35em;\">\n",
       "    Parliament\n",
       "    <span style=\"font-size: 0.8em; font-weight: bold; line-height: 1; border-radius: 0.35em; vertical-align: middle; margin-left: 0.5rem\">ORG</span>\n",
       "</mark>\n",
       " discussed these recommendations and only thought it proper to make certain modifications in the Section. That led to amendment of \n",
       "<mark class=\"entity\" style=\"background: #33E9FF; padding: 0.45em 0.6em; margin: 0 0.25em; line-height: 1; border-radius: 0.35em;\">\n",
       "    Section 115\n",
       "    <span style=\"font-size: 0.8em; font-weight: bold; line-height: 1; border-radius: 0.35em; vertical-align: middle; margin-left: 0.5rem\">PROVISION</span>\n",
       "</mark>\n",
       " by Old Amendment Act. The deliberations of the Committee are reflected in the following words:</br> &quot;The Committee, however, feel; that, in addition to the restrictions contained in \n",
       "<mark class=\"entity\" style=\"background: #33E9FF; padding: 0.45em 0.6em; margin: 0 0.25em; line-height: 1; border-radius: 0.35em;\">\n",
       "    section 115\n",
       "    <span style=\"font-size: 0.8em; font-weight: bold; line-height: 1; border-radius: 0.35em; vertical-align: middle; margin-left: 0.5rem\">PROVISION</span>\n",
       "</mark>\n",
       ", an overall restriction on the scope of applications for revision against interlocutory orders should be imposed. Having regard to the recommendations made by the Law Commission in its Fourteenth and Twenty-Seventh Reports, the Committee recommended that \n",
       "<mark class=\"entity\" style=\"background: #33E9FF; padding: 0.45em 0.6em; margin: 0 0.25em; line-height: 1; border-radius: 0.35em;\">\n",
       "    Section 115\n",
       "    <span style=\"font-size: 0.8em; font-weight: bold; line-height: 1; border-radius: 0.35em; vertical-align: middle; margin-left: 0.5rem\">PROVISION</span>\n",
       "</mark>\n",
       " of the Code should be retained subject to the modification that no revision application shall lie against an interlocutory order unless either of the following conditions is satisfied, namely:-</br>i. that if the orders were made in favour of the applicant, it would finally dispose of the suit or other proceeding; or ii. that the order, if allowed to stand, is likely to occasion a failure of justice or cause in irreparable injury.&quot; </br></br> First aspect that has to be considered is the respective scope of appeal and revision. It is fairly a well settled position in law that the right of appeal is a substantive right. But there is no such substantive right in making an application under \n",
       "<mark class=\"entity\" style=\"background: #33E9FF; padding: 0.45em 0.6em; margin: 0 0.25em; line-height: 1; border-radius: 0.35em;\">\n",
       "    Section 115\n",
       "    <span style=\"font-size: 0.8em; font-weight: bold; line-height: 1; border-radius: 0.35em; vertical-align: middle; margin-left: 0.5rem\">PROVISION</span>\n",
       "</mark>\n",
       ". Though great emphasis was laid on certain observations in \n",
       "<mark class=\"entity\" style=\"background: #ddd; padding: 0.45em 0.6em; margin: 0 0.25em; line-height: 1; border-radius: 0.35em;\">\n",
       "    Shankar Ramchandra Abhyankar v. Krishnaji Dattatraya Bapat (AIR 1970 SC 1)\n",
       "    <span style=\"font-size: 0.8em; font-weight: bold; line-height: 1; border-radius: 0.35em; vertical-align: middle; margin-left: 0.5rem\">PRECEDENT</span>\n",
       "</mark>\n",
       " to contend that appeal and revision stand on the same pedestal, it is difficult to accept the proposition. The observations in the said case are being read out of context. What was held in that case related to the exercise of power of a higher court, and in that context the nature of consideration in appeal and revision was referred to. It was never held in that case that appeal is equated to a revision. </br></br> \n",
       "<mark class=\"entity\" style=\"background: #33E9FF; padding: 0.45em 0.6em; margin: 0 0.25em; line-height: 1; border-radius: 0.35em;\">\n",
       "    Section 115\n",
       "    <span style=\"font-size: 0.8em; font-weight: bold; line-height: 1; border-radius: 0.35em; vertical-align: middle; margin-left: 0.5rem\">PROVISION</span>\n",
       "</mark>\n",
       " is essentially a source of power for the High Court to supervise the subordinate courts. It does not in any way confer a right on a litigant aggrieved by any order of the subordinate court to approach the High Court for relief. The scope for making a revision under \n",
       "<mark class=\"entity\" style=\"background: #33E9FF; padding: 0.45em 0.6em; margin: 0 0.25em; line-height: 1; border-radius: 0.35em;\">\n",
       "    Section 115\n",
       "    <span style=\"font-size: 0.8em; font-weight: bold; line-height: 1; border-radius: 0.35em; vertical-align: middle; margin-left: 0.5rem\">PROVISION</span>\n",
       "</mark>\n",
       " is not linked with a substantive right. </br></br>Language of \n",
       "<mark class=\"entity\" style=\"background: #33E9FF; padding: 0.45em 0.6em; margin: 0 0.25em; line-height: 1; border-radius: 0.35em;\">\n",
       "    Sections 96\n",
       "    <span style=\"font-size: 0.8em; font-weight: bold; line-height: 1; border-radius: 0.35em; vertical-align: middle; margin-left: 0.5rem\">PROVISION</span>\n",
       "</mark>\n",
       " and \n",
       "<mark class=\"entity\" style=\"background: #33E9FF; padding: 0.45em 0.6em; margin: 0 0.25em; line-height: 1; border-radius: 0.35em;\">\n",
       "    100\n",
       "    <span style=\"font-size: 0.8em; font-weight: bold; line-height: 1; border-radius: 0.35em; vertical-align: middle; margin-left: 0.5rem\">PROVISION</span>\n",
       "</mark>\n",
       " of the Code which deal with appeals can be compared with \n",
       "<mark class=\"entity\" style=\"background: #33E9FF; padding: 0.45em 0.6em; margin: 0 0.25em; line-height: 1; border-radius: 0.35em;\">\n",
       "    Section 115\n",
       "    <span style=\"font-size: 0.8em; font-weight: bold; line-height: 1; border-radius: 0.35em; vertical-align: middle; margin-left: 0.5rem\">PROVISION</span>\n",
       "</mark>\n",
       " of the Code. While in the former two provisions specifically provide for right of appeal, the same is not the position vis--vis \n",
       "<mark class=\"entity\" style=\"background: #33E9FF; padding: 0.45em 0.6em; margin: 0 0.25em; line-height: 1; border-radius: 0.35em;\">\n",
       "    section 115\n",
       "    <span style=\"font-size: 0.8em; font-weight: bold; line-height: 1; border-radius: 0.35em; vertical-align: middle; margin-left: 0.5rem\">PROVISION</span>\n",
       "</mark>\n",
       ". It does not speak of an application being made by a person aggrieved by an order of subordinate court. As noted above, it is a source of power of the High Court to have effective control on the functioning of the subordinate courts by exercising supervisory power. </br></br> An appeal is essentially continuation of the original proceedings and the provisions applied at the time of institution of the suit are to be operative even in respect of the appeals. That is because there is a vested right in the litigant to avail the remedy of an appeal. As was observed in \n",
       "<mark class=\"entity\" style=\"background: #ddd; padding: 0.45em 0.6em; margin: 0 0.25em; line-height: 1; border-radius: 0.35em;\">\n",
       "    K. Eapen Chako v. The Provident Investment Company (P) Ltd. (AIR 1976 SC 2610)\n",
       "    <span style=\"font-size: 0.8em; font-weight: bold; line-height: 1; border-radius: 0.35em; vertical-align: middle; margin-left: 0.5rem\">PRECEDENT</span>\n",
       "</mark>\n",
       " only in cases where vested rights are involved, a legislation has to be interpreted to mean as one affecting such right to be prospectively operative. The right of appeal is only by statute. It is necessary part of the procedure in an action, but &quot;the right of entering a superior court and invoking its aid and interposition to redress the error of the courts below. It seems to this paramount right, part of the progress of the inferior tribunal.&quot; (Per Westbury See: AG vs. SILLEM 33 J.Ex 209). The appeal, strictly so called, is one in which the question is, whether the order of the Court from which the appeal is brought was right on the materials which that Court had before it&quot; (Per \n",
       "<mark class=\"entity\" style=\"background: #ddd; padding: 0.45em 0.6em; margin: 0 0.25em; line-height: 1; border-radius: 0.35em;\">\n",
       "    Lord Devuil Ponnamal vs. Arumogam 1905 AC 390\n",
       "    <span style=\"font-size: 0.8em; font-weight: bold; line-height: 1; border-radius: 0.35em; vertical-align: middle; margin-left: 0.5rem\">PRECEDENT</span>\n",
       "</mark>\n",
       "). The right of appeal, where it exists, as a matter of substance and not of procedure (\n",
       "<mark class=\"entity\" style=\"background: #ddd; padding: 0.45em 0.6em; margin: 0 0.25em; line-height: 1; border-radius: 0.35em;\">\n",
       "    Colonial Sugar Refining Company vs. Irtin 1905 AC 368\n",
       "    <span style=\"font-size: 0.8em; font-weight: bold; line-height: 1; border-radius: 0.35em; vertical-align: middle; margin-left: 0.5rem\">PRECEDENT</span>\n",
       "</mark>\n",
       "). </br></br>Right of appeal is statutory. Right of appeal inherits in no one. When conferred by statute it becomes a vested right. In this regard there is essential distinction between right of appeal and right of suit. Where there is inherent right in every person to file a suit and for its maintainability it requires no authority of law, appeal requires so. As was observed in The \n",
       "<mark class=\"entity\" style=\"background: #ddd; padding: 0.45em 0.6em; margin: 0 0.25em; line-height: 1; border-radius: 0.35em;\">\n",
       "    State of Kerala vs. K.M. Charia Abdulla and Co. (AIR 1965 SC 1585)\n",
       "    <span style=\"font-size: 0.8em; font-weight: bold; line-height: 1; border-radius: 0.35em; vertical-align: middle; margin-left: 0.5rem\">PRECEDENT</span>\n",
       "</mark>\n",
       ", the distinction between right of appeal and revision is based on differences implicit in the two expressions. An appeal is continuation of the proceedings; in effect the entire proceedings are before the appellate authority and it has power to review the evidence subject to statutory limitations prescribed. But in the case of revision, whatever powers the revisional authority may or may not have, it has no power to review the evidence, unless the statute expressly confers on it that power. It was noted by the four-Judges Bench in \n",
       "<mark class=\"entity\" style=\"background: #ddd; padding: 0.45em 0.6em; margin: 0 0.25em; line-height: 1; border-radius: 0.35em;\">\n",
       "    Hari Shankar and others vs. Rao Girdhari Lal Chowdhury (AIR 1963 SC 698)\n",
       "    <span style=\"font-size: 0.8em; font-weight: bold; line-height: 1; border-radius: 0.35em; vertical-align: middle; margin-left: 0.5rem\">PRECEDENT</span>\n",
       "</mark>\n",
       " that the distinction between an appeal and a revision is a real one. A right of appeal carries with it a right of re-hearing on law as well as fact, unless the statute conferring the right of appeal limits the re-hearing in some way, as has been done in second appeals arising under the Code. The power of hearing revision is generally given to a superior Court so that it may satisfy itself that a particular case has been decided according to law. Reference was made to \n",
       "<mark class=\"entity\" style=\"background: #33E9FF; padding: 0.45em 0.6em; margin: 0 0.25em; line-height: 1; border-radius: 0.35em;\">\n",
       "    Section 115\n",
       "    <span style=\"font-size: 0.8em; font-weight: bold; line-height: 1; border-radius: 0.35em; vertical-align: middle; margin-left: 0.5rem\">PROVISION</span>\n",
       "</mark>\n",
       " of the Code to hold that the High Court's powers under the said provision are limited to certain particular categories of cases. The right there is confined to jurisdiction and jurisdiction alone. </br></br>As regards the field of operation of amended provision, it is to be noted that the language of amended provision is clear. </br></br> It is well settled principle in law that the Court cannot read anything into a statutory provision which is plain and unambiguous. A statute is an edict of the Legislature. The language employed in a statute is the determinative factor of legislative intent. Words and phrases are symbols that stimulate mental references to referents. The object of interpreting a statute is to ascertain the intention of the Legislature enacting it. (See \n",
       "<mark class=\"entity\" style=\"background: #ddd; padding: 0.45em 0.6em; margin: 0 0.25em; line-height: 1; border-radius: 0.35em;\">\n",
       "    Institute of Chartered Accountants of India v. M/s Price Waterhouse and Anr\n",
       "    <span style=\"font-size: 0.8em; font-weight: bold; line-height: 1; border-radius: 0.35em; vertical-align: middle; margin-left: 0.5rem\">PRECEDENT</span>\n",
       "</mark>\n",
       ". (\n",
       "<mark class=\"entity\" style=\"background: #ddd; padding: 0.45em 0.6em; margin: 0 0.25em; line-height: 1; border-radius: 0.35em;\">\n",
       "    AIR 1998 SC 74)\n",
       "    <span style=\"font-size: 0.8em; font-weight: bold; line-height: 1; border-radius: 0.35em; vertical-align: middle; margin-left: 0.5rem\">PRECEDENT</span>\n",
       "</mark>\n",
       ") The intention of the Legislature is primarily to be gathered from the language used, which means that attention should be paid to what has been said as also to what has not been said. As a consequence, a construction which requires for its support, addition or substitution of words or which results in rejection of words as meaningless has to be avoided. As observed in \n",
       "<mark class=\"entity\" style=\"background: #ddd; padding: 0.45em 0.6em; margin: 0 0.25em; line-height: 1; border-radius: 0.35em;\">\n",
       "    Crawford v. Spooner (1846 (6) Moore PC 1)\n",
       "    <span style=\"font-size: 0.8em; font-weight: bold; line-height: 1; border-radius: 0.35em; vertical-align: middle; margin-left: 0.5rem\">PRECEDENT</span>\n",
       "</mark>\n",
       ", Courts, cannot aid the Legislatures' defective phrasing of an Act, we cannot add or mend, and by construction make up deficiencies which are left there. (See The \n",
       "<mark class=\"entity\" style=\"background: #A6A82F; padding: 0.45em 0.6em; margin: 0 0.25em; line-height: 1; border-radius: 0.35em;\">\n",
       "    State of Gujarat\n",
       "    <span style=\"font-size: 0.8em; font-weight: bold; line-height: 1; border-radius: 0.35em; vertical-align: middle; margin-left: 0.5rem\">GPE</span>\n",
       "</mark>\n",
       " and Ors. v. \n",
       "<mark class=\"entity\" style=\"background: green; padding: 0.45em 0.6em; margin: 0 0.25em; line-height: 1; border-radius: 0.35em;\">\n",
       "    Dilipbhai Nathjibhai Patel\n",
       "    <span style=\"font-size: 0.8em; font-weight: bold; line-height: 1; border-radius: 0.35em; vertical-align: middle; margin-left: 0.5rem\">RESPONDENT</span>\n",
       "</mark>\n",
       " and Anr. (\n",
       "<mark class=\"entity\" style=\"background: #ddd; padding: 0.45em 0.6em; margin: 0 0.25em; line-height: 1; border-radius: 0.35em;\">\n",
       "    JT 1998 (2) SC 253)\n",
       "    <span style=\"font-size: 0.8em; font-weight: bold; line-height: 1; border-radius: 0.35em; vertical-align: middle; margin-left: 0.5rem\">PRECEDENT</span>\n",
       "</mark>\n",
       "). It is contrary to all rules of construction to read words into an Act unless it is absolutely necessary to do so. (See \n",
       "<mark class=\"entity\" style=\"background: #ddd; padding: 0.45em 0.6em; margin: 0 0.25em; line-height: 1; border-radius: 0.35em;\">\n",
       "    Stock v. Frank Jones (Tiptan) Ltd. (1978 1 All ER 948 (HL)\n",
       "    <span style=\"font-size: 0.8em; font-weight: bold; line-height: 1; border-radius: 0.35em; vertical-align: middle; margin-left: 0.5rem\">PRECEDENT</span>\n",
       "</mark>\n",
       ". Rules of interpretation do not permit Courts to do so, unless the provision as it stands is meaningless or of doubtful meaning. Courts are not entitled to read words into an Act of \n",
       "<mark class=\"entity\" style=\"background: #603255; padding: 0.45em 0.6em; margin: 0 0.25em; line-height: 1; border-radius: 0.35em;\">\n",
       "    Parliament\n",
       "    <span style=\"font-size: 0.8em; font-weight: bold; line-height: 1; border-radius: 0.35em; vertical-align: middle; margin-left: 0.5rem\">ORG</span>\n",
       "</mark>\n",
       " unless clear reason for it is to be found within the four corners of the Act itself. (Per Lord \n",
       "<mark class=\"entity\" style=\"background: cyan; padding: 0.45em 0.6em; margin: 0 0.25em; line-height: 1; border-radius: 0.35em;\">\n",
       "    Loreburn L.C.\n",
       "    <span style=\"font-size: 0.8em; font-weight: bold; line-height: 1; border-radius: 0.35em; vertical-align: middle; margin-left: 0.5rem\">OTHER_PERSON</span>\n",
       "</mark>\n",
       " in \n",
       "<mark class=\"entity\" style=\"background: #ddd; padding: 0.45em 0.6em; margin: 0 0.25em; line-height: 1; border-radius: 0.35em;\">\n",
       "    Vickers Sons and Maxim Ltd. v. Evans (1910) AC 445 (HL)\n",
       "    <span style=\"font-size: 0.8em; font-weight: bold; line-height: 1; border-radius: 0.35em; vertical-align: middle; margin-left: 0.5rem\">PRECEDENT</span>\n",
       "</mark>\n",
       ", quoted in \n",
       "<mark class=\"entity\" style=\"background: #ddd; padding: 0.45em 0.6em; margin: 0 0.25em; line-height: 1; border-radius: 0.35em;\">\n",
       "    Jamma Masjid, Mercara v. Kodimaniandra Deviah and Ors.(AIR 1962 SC 847\n",
       "    <span style=\"font-size: 0.8em; font-weight: bold; line-height: 1; border-radius: 0.35em; vertical-align: middle; margin-left: 0.5rem\">PRECEDENT</span>\n",
       "</mark>\n",
       "). </br></br>The question is not what may be supposed and has been intended but what has been said. &quot;Statutes should be construed not as theorems of \n",
       "<mark class=\"entity\" style=\"background: cyan; padding: 0.45em 0.6em; margin: 0 0.25em; line-height: 1; border-radius: 0.35em;\">\n",
       "    Euclid\n",
       "    <span style=\"font-size: 0.8em; font-weight: bold; line-height: 1; border-radius: 0.35em; vertical-align: middle; margin-left: 0.5rem\">OTHER_PERSON</span>\n",
       "</mark>\n",
       "&quot;. Judge Learned Hand said, &quot;but words must be construed with some imagination of the purposes which lie behind them&quot;. (See \n",
       "<mark class=\"entity\" style=\"background: #ddd; padding: 0.45em 0.6em; margin: 0 0.25em; line-height: 1; border-radius: 0.35em;\">\n",
       "    Lenigh Valley Coal Co. v. Yensavage 218 FR 547\n",
       "    <span style=\"font-size: 0.8em; font-weight: bold; line-height: 1; border-radius: 0.35em; vertical-align: middle; margin-left: 0.5rem\">PRECEDENT</span>\n",
       "</mark>\n",
       "). The view was re-iterated in \n",
       "<mark class=\"entity\" style=\"background: #603255; padding: 0.45em 0.6em; margin: 0 0.25em; line-height: 1; border-radius: 0.35em;\">\n",
       "    Union of India\n",
       "    <span style=\"font-size: 0.8em; font-weight: bold; line-height: 1; border-radius: 0.35em; vertical-align: middle; margin-left: 0.5rem\">ORG</span>\n",
       "</mark>\n",
       " and Ors. v. \n",
       "<mark class=\"entity\" style=\"background: #ddd; padding: 0.45em 0.6em; margin: 0 0.25em; line-height: 1; border-radius: 0.35em;\">\n",
       "    Filip Tiago De Gama of Vedem Vasco De Gama (AIR 1990 SC 981)\n",
       "    <span style=\"font-size: 0.8em; font-weight: bold; line-height: 1; border-radius: 0.35em; vertical-align: middle; margin-left: 0.5rem\">PRECEDENT</span>\n",
       "</mark>\n",
       ". </br></br>In Dr. \n",
       "<mark class=\"entity\" style=\"background: cyan; padding: 0.45em 0.6em; margin: 0 0.25em; line-height: 1; border-radius: 0.35em;\">\n",
       "    R. Venkatchalam\n",
       "    <span style=\"font-size: 0.8em; font-weight: bold; line-height: 1; border-radius: 0.35em; vertical-align: middle; margin-left: 0.5rem\">OTHER_PERSON</span>\n",
       "</mark>\n",
       " and Ors. etc. v. Dy. Transport Commissioner and Ors. etc. (\n",
       "<mark class=\"entity\" style=\"background: #ddd; padding: 0.45em 0.6em; margin: 0 0.25em; line-height: 1; border-radius: 0.35em;\">\n",
       "    AIR 1977 SC 842\n",
       "    <span style=\"font-size: 0.8em; font-weight: bold; line-height: 1; border-radius: 0.35em; vertical-align: middle; margin-left: 0.5rem\">PRECEDENT</span>\n",
       "</mark>\n",
       "), it was observed that Courts must avoid the danger of apriori determination of the meaning of a provision based on their own pre-conceived notions of ideological structure or scheme into which the provision to be interpreted is somewhat fitted. They are not entitled to usurp legislative function under the disguise of interpretation. </br></br>While interpreting a provision the Court only interprets the law and cannot legislate it. If a provision of law is misused and subjected to the abuse of process of law, it is for the legislature to amend, modify or repeal it, if deemed necessary. (See \n",
       "<mark class=\"entity\" style=\"background: #ddd; padding: 0.45em 0.6em; margin: 0 0.25em; line-height: 1; border-radius: 0.35em;\">\n",
       "    Commissioner of Sales Tax, M.P. v. Popular Trading Company, Ujjain (2000 (5) SCC 515\n",
       "    <span style=\"font-size: 0.8em; font-weight: bold; line-height: 1; border-radius: 0.35em; vertical-align: middle; margin-left: 0.5rem\">PRECEDENT</span>\n",
       "</mark>\n",
       "). The legislative casus omissus cannot be supplied by judicial interpretative process. </br></br>Two principles of construction one relating to casus omissus and the other in regard to reading the statute as a whole appear to be well settled. Under the first principle a casus omissus cannot be supplied by the Court except in the case of clear necessity and when reason for it is found in the four corners of the statute itself but at the same time a casus omissus should not be readily inferred and for that purpose all the parts of a statute or section must be construed together and every clause of a section should be construed with reference to the context and other clauses thereof so that the construction to be put on a particular provision makes a consistent enactment of the whole statute. This would be more so if literal construction of a particular clause leads to manifestly absurd or anomalous results which could not have been intended by the Legislature. &quot;An intention to produce an unreasonable result&quot;, said \n",
       "<mark class=\"entity\" style=\"background: pink; padding: 0.45em 0.6em; margin: 0 0.25em; line-height: 1; border-radius: 0.35em;\">\n",
       "    Danackwerts\n",
       "    <span style=\"font-size: 0.8em; font-weight: bold; line-height: 1; border-radius: 0.35em; vertical-align: middle; margin-left: 0.5rem\">JUDGE</span>\n",
       "</mark>\n",
       ", L.J. in \n",
       "<mark class=\"entity\" style=\"background: #ddd; padding: 0.45em 0.6em; margin: 0 0.25em; line-height: 1; border-radius: 0.35em;\">\n",
       "    Artemiou v. Procopiou (1966 1 QB 878)\n",
       "    <span style=\"font-size: 0.8em; font-weight: bold; line-height: 1; border-radius: 0.35em; vertical-align: middle; margin-left: 0.5rem\">PRECEDENT</span>\n",
       "</mark>\n",
       ", &quot;is not to be imputed to a statute if there is some other construction available&quot;. Where to apply words literally would &quot;defeat the obvious intention of the legislation and produce a wholly unreasonable result&quot; we must &quot;do some violence to the words&quot; and so achieve that obvious intention and produce a rational construction. (Per Lord \n",
       "<mark class=\"entity\" style=\"background: cyan; padding: 0.45em 0.6em; margin: 0 0.25em; line-height: 1; border-radius: 0.35em;\">\n",
       "    Reid\n",
       "    <span style=\"font-size: 0.8em; font-weight: bold; line-height: 1; border-radius: 0.35em; vertical-align: middle; margin-left: 0.5rem\">OTHER_PERSON</span>\n",
       "</mark>\n",
       " in Luke v. IRC (1966 AC 557) where at p. 577 he also observed: &quot;this is not a new problem, though our standard of drafting is such that it rarely emerges&quot;. It is then true that, &quot;when the words of a law extend not to an inconvenience rarely happening, but do to those which often happen, it is good reason not to strain the words further than they reach, by saying it is casus omissus, and that the law intended quae frequentius accidunt.&quot; &quot;But,&quot; on the other hand,&quot;it is no reason, when the words of a law do enough extend to an inconvenience seldom happening, that they should not extend to it as well as if it happened more frequently, because it happens but seldom&quot; (See \n",
       "<mark class=\"entity\" style=\"background: #ddd; padding: 0.45em 0.6em; margin: 0 0.25em; line-height: 1; border-radius: 0.35em;\">\n",
       "    Fenton v. Hampton 11 Moore, P.C. 345\n",
       "    <span style=\"font-size: 0.8em; font-weight: bold; line-height: 1; border-radius: 0.35em; vertical-align: middle; margin-left: 0.5rem\">PRECEDENT</span>\n",
       "</mark>\n",
       "). A casus omissus ought not to be created by interpretation, save in some case of strong necessity. Where, however, a casus omissus does really occur, either through the inadvertence of the legislature, or on the principle quod semel aut bis existit proetereunt legislatores, the rule is that the particular case, thus left unprovided for, must be disposed of according to the law as it existed before such statute - Casus omissus et oblivioni datus dispositioni communis juris relinquitur; &quot;a casus omissus,&quot; observed \n",
       "<mark class=\"entity\" style=\"background: pink; padding: 0.45em 0.6em; margin: 0 0.25em; line-height: 1; border-radius: 0.35em;\">\n",
       "    Buller\n",
       "    <span style=\"font-size: 0.8em; font-weight: bold; line-height: 1; border-radius: 0.35em; vertical-align: middle; margin-left: 0.5rem\">JUDGE</span>\n",
       "</mark>\n",
       ", J. in Jones v. Smart (1 T.R. 52), &quot;can in no case be supplied by a court of law, for that would be to make laws.&quot; </br></br>The golden rule for construing wills, statutes, and, in fact, all written instruments has been thus stated: &quot;The grammatical and ordinary sense of the words is to be adhered to unless that would lead to some absurdity or some repugnance or inconsistency with the rest of the instrument, in which case the grammatical and ordinary sense of the words may be modified, so as to avoid that absurdity and inconsistency, but no further&quot; (See \n",
       "<mark class=\"entity\" style=\"background: #ddd; padding: 0.45em 0.6em; margin: 0 0.25em; line-height: 1; border-radius: 0.35em;\">\n",
       "    Grey v. Pearson 6 H.L. Cas. 61\n",
       "    <span style=\"font-size: 0.8em; font-weight: bold; line-height: 1; border-radius: 0.35em; vertical-align: middle; margin-left: 0.5rem\">PRECEDENT</span>\n",
       "</mark>\n",
       "). The latter part of this &quot;golden rule&quot; must, however, be applied with much caution. &quot;if,&quot; remarked \n",
       "<mark class=\"entity\" style=\"background: pink; padding: 0.45em 0.6em; margin: 0 0.25em; line-height: 1; border-radius: 0.35em;\">\n",
       "    Jervis\n",
       "    <span style=\"font-size: 0.8em; font-weight: bold; line-height: 1; border-radius: 0.35em; vertical-align: middle; margin-left: 0.5rem\">JUDGE</span>\n",
       "</mark>\n",
       ", C.J., &quot;the precise words used are plain and unambiguous in our judgment, we are bound to construe them in their ordinary sense, even though it lead, in our view of the case, to an absurdity or manifest injustice. Words may be modified or varied where their import is doubtful or obscure. But we assume the functions of legislators when we depart from the ordinary meaning of the precise words used, merely because we see, or fancy we see, an absurdity or manifest injustice from an adherence to their literal meaning&quot; (See \n",
       "<mark class=\"entity\" style=\"background: #ddd; padding: 0.45em 0.6em; margin: 0 0.25em; line-height: 1; border-radius: 0.35em;\">\n",
       "    Abley v. Dale 11, C.B. 378\n",
       "    <span style=\"font-size: 0.8em; font-weight: bold; line-height: 1; border-radius: 0.35em; vertical-align: middle; margin-left: 0.5rem\">PRECEDENT</span>\n",
       "</mark>\n",
       "). </br></br>At this juncture, it would be necessary to take note of a maxim &quot;Ad ea quae frequentius accidunt jura adaptantur&quot; (The laws are adapted to those cases which more frequently occur). </br></br>Laws ought to be, and usually are, framed with a view to such cases as are of frequent rather than such as are of rare or accidental occurrence; or, in the language of the civil law, jus constitui oportet in his quoe ut plurimum accidunt, non quoe ex inopinato; for, neque leges neque senatusconsulta ita scribi possunt ut omnes casus qui quandoque inciderint comprehendantur, sed sufficit ea quoe plerumque accident contineri; laws cannot be so worded as to include every case which may arise, but it is sufficient if they apply to those things which most frequently happen. All legislation proceeds upon the principle of providing for the ordinary course of things, and to this principle frequent reference is to be found, in the reports, in answer to arguments, often speciously advanced, that the words of an Act cannot have a particular meaning, because in a certain contingency that meaning might work a result of which nobody would approve. In \n",
       "<mark class=\"entity\" style=\"background: #ddd; padding: 0.45em 0.6em; margin: 0 0.25em; line-height: 1; border-radius: 0.35em;\">\n",
       "    Miller v. Salomons (7 Exch\n",
       "    <span style=\"font-size: 0.8em; font-weight: bold; line-height: 1; border-radius: 0.35em; vertical-align: middle; margin-left: 0.5rem\">PRECEDENT</span>\n",
       "</mark>\n",
       ". 475) it was argued that \n",
       "<mark class=\"entity\" style=\"background: #603255; padding: 0.45em 0.6em; margin: 0 0.25em; line-height: 1; border-radius: 0.35em;\">\n",
       "    Parliament\n",
       "    <span style=\"font-size: 0.8em; font-weight: bold; line-height: 1; border-radius: 0.35em; vertical-align: middle; margin-left: 0.5rem\">ORG</span>\n",
       "</mark>\n",
       " could not have intended that a Jew, before sitting in the House of Commons, must use the words &quot;on the true faith of a Christian,&quot; prescribed in the oath of abjuration of 6 Geo. 3, c.53, because any person, refusing to take the same oath when tendered by two justices, would, under the \n",
       "<mark class=\"entity\" style=\"background: #33E9FF; padding: 0.45em 0.6em; margin: 0 0.25em; line-height: 1; border-radius: 0.35em;\">\n",
       "    1 Geo. 1\n",
       "    <span style=\"font-size: 0.8em; font-weight: bold; line-height: 1; border-radius: 0.35em; vertical-align: middle; margin-left: 0.5rem\">PROVISION</span>\n",
       "</mark>\n",
       ", \n",
       "<mark class=\"entity\" style=\"background: #33E9FF; padding: 0.45em 0.6em; margin: 0 0.25em; line-height: 1; border-radius: 0.35em;\">\n",
       "    st.2\n",
       "    <span style=\"font-size: 0.8em; font-weight: bold; line-height: 1; border-radius: 0.35em; vertical-align: middle; margin-left: 0.5rem\">PROVISION</span>\n",
       "</mark>\n",
       ", \n",
       "<mark class=\"entity\" style=\"background: #33E9FF; padding: 0.45em 0.6em; margin: 0 0.25em; line-height: 1; border-radius: 0.35em;\">\n",
       "    c.13\n",
       "    <span style=\"font-size: 0.8em; font-weight: bold; line-height: 1; border-radius: 0.35em; vertical-align: middle; margin-left: 0.5rem\">PROVISION</span>\n",
       "</mark>\n",
       ", be deemed to be a popish recusant, and would be liable to penalties as such; and to enforce these provisions against a Jew, it was said, would be the merest tyranny. But Baron \n",
       "<mark class=\"entity\" style=\"background: cyan; padding: 0.45em 0.6em; margin: 0 0.25em; line-height: 1; border-radius: 0.35em;\">\n",
       "    Parke\n",
       "    <span style=\"font-size: 0.8em; font-weight: bold; line-height: 1; border-radius: 0.35em; vertical-align: middle; margin-left: 0.5rem\">OTHER_PERSON</span>\n",
       "</mark>\n",
       " thus replied to this argument: -&quot;If in the vast majority of possible cases in all of ordinary occurrence the law is in no degree inconsistent or unreasonable construed according to its plain words, it seems to me to be an untenable proposition, and unsupported by authority, to say that the construction may be varied in every case, because there is one possible but highly improbably one in which the law would operate with great severity, and against our own notions of justice. The utmost that can be reasonably contended is, that it should be varied in that particular case, so as to obviate that injustice no further.&quot; </br></br>Appeal is the right of entering a superior Court and invoking its aid and interposition to redress the error of the court below. (per \n",
       "<mark class=\"entity\" style=\"background: #ddd; padding: 0.45em 0.6em; margin: 0 0.25em; line-height: 1; border-radius: 0.35em;\">\n",
       "    Westbury C.\n",
       "    <span style=\"font-size: 0.8em; font-weight: bold; line-height: 1; border-radius: 0.35em; vertical-align: middle; margin-left: 0.5rem\">PRECEDENT</span>\n",
       "</mark>\n",
       ", \n",
       "<mark class=\"entity\" style=\"background: #ddd; padding: 0.45em 0.6em; margin: 0 0.25em; line-height: 1; border-radius: 0.35em;\">\n",
       "    A.G. v. Sillem, 10 HLC 704 = 33 LJ ex.209\n",
       "    <span style=\"font-size: 0.8em; font-weight: bold; line-height: 1; border-radius: 0.35em; vertical-align: middle; margin-left: 0.5rem\">PRECEDENT</span>\n",
       "</mark>\n",
       "). </br></br>&quot;Appeal&quot;, is defined in the Oxford Dictionary, volume I, page 398, as the transference of a case from an inferior to a higher Court or tribunal in the hope of reversing or modifying the decision of the former. In the Law Dictionary by \n",
       "<mark class=\"entity\" style=\"background: cyan; padding: 0.45em 0.6em; margin: 0 0.25em; line-height: 1; border-radius: 0.35em;\">\n",
       "    Sweet\n",
       "    <span style=\"font-size: 0.8em; font-weight: bold; line-height: 1; border-radius: 0.35em; vertical-align: middle; margin-left: 0.5rem\">OTHER_PERSON</span>\n",
       "</mark>\n",
       ", the term &quot;appeal&quot; is defined as a proceeding taken to rectify an erroneous decision of a Court by submitting the question to a higher Court or Court of appeal, and it is added that the term, therefore, includes, in addition to the proceedings specifically so called, the cases stated for the opinion of the Queen's Bench Division and the Court of Crown Cases reserved, and proceedings in error. In the Law Dictionary by \n",
       "<mark class=\"entity\" style=\"background: cyan; padding: 0.45em 0.6em; margin: 0 0.25em; line-height: 1; border-radius: 0.35em;\">\n",
       "    Bouvier\n",
       "    <span style=\"font-size: 0.8em; font-weight: bold; line-height: 1; border-radius: 0.35em; vertical-align: middle; margin-left: 0.5rem\">OTHER_PERSON</span>\n",
       "</mark>\n",
       " an appeal is defined as the removal of a case from a Court of inferior to one of superior jurisdiction for the purpose of obtaining a review and re-trial, and it is explained that in its technical sense it differs from a writ of error in this, that it subjects both the law and the facts to a review and re- trial, while the latter is a Common Law process which involves matter of law only for re-examination; it is added, however, that the term &quot;appeal&quot; is used in a comprehensive sense so as to include both what is described technically as an appeal and also the common law writ of error. As Mr. Justice \n",
       "<mark class=\"entity\" style=\"background: pink; padding: 0.45em 0.6em; margin: 0 0.25em; line-height: 1; border-radius: 0.35em;\">\n",
       "    Subramania Ayyar\n",
       "    <span style=\"font-size: 0.8em; font-weight: bold; line-height: 1; border-radius: 0.35em; vertical-align: middle; margin-left: 0.5rem\">JUDGE</span>\n",
       "</mark>\n",
       " observes in \n",
       "<mark class=\"entity\" style=\"background: #ddd; padding: 0.45em 0.6em; margin: 0 0.25em; line-height: 1; border-radius: 0.35em;\">\n",
       "    Chappan v. Moidin, 22 Mad 68\n",
       "    <span style=\"font-size: 0.8em; font-weight: bold; line-height: 1; border-radius: 0.35em; vertical-align: middle; margin-left: 0.5rem\">PRECEDENT</span>\n",
       "</mark>\n",
       " at p.80 the two things which are required to constitute appellate jurisdiction are the existence of the relation of superior and inferior Court and the power, on the part of the former, to review decisions of the latter. </br></br> \n",
       "<mark class=\"entity\" style=\"background: #33E9FF; padding: 0.45em 0.6em; margin: 0 0.25em; line-height: 1; border-radius: 0.35em;\">\n",
       "    Sub-section (2) of Section 115\n",
       "    <span style=\"font-size: 0.8em; font-weight: bold; line-height: 1; border-radius: 0.35em; vertical-align: middle; margin-left: 0.5rem\">PROVISION</span>\n",
       "</mark>\n",
       " has remained unaltered even after the amendment by the \n",
       "<mark class=\"entity\" style=\"background: #1C4D53; padding: 0.45em 0.6em; margin: 0 0.25em; line-height: 1; border-radius: 0.35em;\">\n",
       "    Amendment Act\n",
       "    <span style=\"font-size: 0.8em; font-weight: bold; line-height: 1; border-radius: 0.35em; vertical-align: middle; margin-left: 0.5rem\">STATUTE</span>\n",
       "</mark>\n",
       ". A new sub- section (3) has been added in \n",
       "<mark class=\"entity\" style=\"background: #33E9FF; padding: 0.45em 0.6em; margin: 0 0.25em; line-height: 1; border-radius: 0.35em;\">\n",
       "    Section 115\n",
       "    <span style=\"font-size: 0.8em; font-weight: bold; line-height: 1; border-radius: 0.35em; vertical-align: middle; margin-left: 0.5rem\">PROVISION</span>\n",
       "</mark>\n",
       " by the Amendment Act which states that revision shall not operate as a stay of suit or other proceeding before the Court except where such suit or other proceeding is stayed by the High Court. </br></br> In \n",
       "<mark class=\"entity\" style=\"background: #33E9FF; padding: 0.45em 0.6em; margin: 0 0.25em; line-height: 1; border-radius: 0.35em;\">\n",
       "    Section 2\n",
       "    <span style=\"font-size: 0.8em; font-weight: bold; line-height: 1; border-radius: 0.35em; vertical-align: middle; margin-left: 0.5rem\">PROVISION</span>\n",
       "</mark>\n",
       ", the expressions 'decree' and 'order' have been defined in clauses (2) and (14) respectively. It is to be noted that it matters little that the judgment is styled as an &quot;order&quot;. If, in fact, it fulfils the conditions of the definition under \n",
       "<mark class=\"entity\" style=\"background: #33E9FF; padding: 0.45em 0.6em; margin: 0 0.25em; line-height: 1; border-radius: 0.35em;\">\n",
       "    Section 2(2)\n",
       "    <span style=\"font-size: 0.8em; font-weight: bold; line-height: 1; border-radius: 0.35em; vertical-align: middle; margin-left: 0.5rem\">PROVISION</span>\n",
       "</mark>\n",
       ", it is a decree and becomes appealable. Orders that are not appealable are, generally speaking, those which are procussual i.e. interlocutory or incidental orders regulating proceedings but not deciding any of the matters of controversy in the suit. \n",
       "<mark class=\"entity\" style=\"background: #33E9FF; padding: 0.45em 0.6em; margin: 0 0.25em; line-height: 1; border-radius: 0.35em;\">\n",
       "    Order 43\n",
       "    <span style=\"font-size: 0.8em; font-weight: bold; line-height: 1; border-radius: 0.35em; vertical-align: middle; margin-left: 0.5rem\">PROVISION</span>\n",
       "</mark>\n",
       " deals with the &quot;appeals from orders&quot;. These appeals lie under \n",
       "<mark class=\"entity\" style=\"background: #33E9FF; padding: 0.45em 0.6em; margin: 0 0.25em; line-height: 1; border-radius: 0.35em;\">\n",
       "    Section 104\n",
       "    <span style=\"font-size: 0.8em; font-weight: bold; line-height: 1; border-radius: 0.35em; vertical-align: middle; margin-left: 0.5rem\">PROVISION</span>\n",
       "</mark>\n",
       " of the Code. The said Section deals with appeals from orders and specifies the orders from which appeals can lie. \n",
       "<mark class=\"entity\" style=\"background: #33E9FF; padding: 0.45em 0.6em; margin: 0 0.25em; line-height: 1; border-radius: 0.35em;\">\n",
       "    Sub-section (2) of Section 104\n",
       "    <span style=\"font-size: 0.8em; font-weight: bold; line-height: 1; border-radius: 0.35em; vertical-align: middle; margin-left: 0.5rem\">PROVISION</span>\n",
       "</mark>\n",
       " says that no appeal shall lie from any order passed in appeal under the said Section. \n",
       "<mark class=\"entity\" style=\"background: #33E9FF; padding: 0.45em 0.6em; margin: 0 0.25em; line-height: 1; border-radius: 0.35em;\">\n",
       "    Section 104\n",
       "    <span style=\"font-size: 0.8em; font-weight: bold; line-height: 1; border-radius: 0.35em; vertical-align: middle; margin-left: 0.5rem\">PROVISION</span>\n",
       "</mark>\n",
       " and \n",
       "<mark class=\"entity\" style=\"background: #33E9FF; padding: 0.45em 0.6em; margin: 0 0.25em; line-height: 1; border-radius: 0.35em;\">\n",
       "    Order 43 Rule I\n",
       "    <span style=\"font-size: 0.8em; font-weight: bold; line-height: 1; border-radius: 0.35em; vertical-align: middle; margin-left: 0.5rem\">PROVISION</span>\n",
       "</mark>\n",
       " contain a full list of appealable orders. An order which amounts to a decree within \n",
       "<mark class=\"entity\" style=\"background: #33E9FF; padding: 0.45em 0.6em; margin: 0 0.25em; line-height: 1; border-radius: 0.35em;\">\n",
       "    Section 2(2)\n",
       "    <span style=\"font-size: 0.8em; font-weight: bold; line-height: 1; border-radius: 0.35em; vertical-align: middle; margin-left: 0.5rem\">PROVISION</span>\n",
       "</mark>\n",
       " does not fall within \n",
       "<mark class=\"entity\" style=\"background: #33E9FF; padding: 0.45em 0.6em; margin: 0 0.25em; line-height: 1; border-radius: 0.35em;\">\n",
       "    Section 104\n",
       "    <span style=\"font-size: 0.8em; font-weight: bold; line-height: 1; border-radius: 0.35em; vertical-align: middle; margin-left: 0.5rem\">PROVISION</span>\n",
       "</mark>\n",
       " and the only applicable section is \n",
       "<mark class=\"entity\" style=\"background: #33E9FF; padding: 0.45em 0.6em; margin: 0 0.25em; line-height: 1; border-radius: 0.35em;\">\n",
       "    Section 96\n",
       "    <span style=\"font-size: 0.8em; font-weight: bold; line-height: 1; border-radius: 0.35em; vertical-align: middle; margin-left: 0.5rem\">PROVISION</span>\n",
       "</mark>\n",
       ". Clauses (a) to (f) of \n",
       "<mark class=\"entity\" style=\"background: #33E9FF; padding: 0.45em 0.6em; margin: 0 0.25em; line-height: 1; border-radius: 0.35em;\">\n",
       "    Section 104\n",
       "    <span style=\"font-size: 0.8em; font-weight: bold; line-height: 1; border-radius: 0.35em; vertical-align: middle; margin-left: 0.5rem\">PROVISION</span>\n",
       "</mark>\n",
       " were omitted by \n",
       "<mark class=\"entity\" style=\"background: #1C4D53; padding: 0.45em 0.6em; margin: 0 0.25em; line-height: 1; border-radius: 0.35em;\">\n",
       "    Arbitration Act 1940\n",
       "    <span style=\"font-size: 0.8em; font-weight: bold; line-height: 1; border-radius: 0.35em; vertical-align: middle; margin-left: 0.5rem\">STATUTE</span>\n",
       "</mark>\n",
       ". \n",
       "<mark class=\"entity\" style=\"background: #33E9FF; padding: 0.45em 0.6em; margin: 0 0.25em; line-height: 1; border-radius: 0.35em;\">\n",
       "    Section 105\n",
       "    <span style=\"font-size: 0.8em; font-weight: bold; line-height: 1; border-radius: 0.35em; vertical-align: middle; margin-left: 0.5rem\">PROVISION</span>\n",
       "</mark>\n",
       " relates to other orders. It, inter alia, relates to any order i.e. so appealable as well as non-appelable orders. It is in the nature of a prohibition stipulating that save as otherwise expressly provided, no appeal shall lie from any order made by a Court in exercise of original or appellate jurisdiction; but where a decree is appealed from, any error, defect or irregularity in any order, affecting the decision of the case, may be set forth as a ground of objection in the memorandum of appeal. Sub-section (2) deals with case of remand. This section, in fact, contemplates two things i.e. (1) regular appeal from decree; and (2) the provision relating to grant of objection relating to interim order. \n",
       "<mark class=\"entity\" style=\"background: #33E9FF; padding: 0.45em 0.6em; margin: 0 0.25em; line-height: 1; border-radius: 0.35em;\">\n",
       "    Order 43 Rule 1\n",
       "    <span style=\"font-size: 0.8em; font-weight: bold; line-height: 1; border-radius: 0.35em; vertical-align: middle; margin-left: 0.5rem\">PROVISION</span>\n",
       "</mark>\n",
       " is an integral part of \n",
       "<mark class=\"entity\" style=\"background: #33E9FF; padding: 0.45em 0.6em; margin: 0 0.25em; line-height: 1; border-radius: 0.35em;\">\n",
       "    Section 104\n",
       "    <span style=\"font-size: 0.8em; font-weight: bold; line-height: 1; border-radius: 0.35em; vertical-align: middle; margin-left: 0.5rem\">PROVISION</span>\n",
       "</mark>\n",
       ". </br></br>A plain reading of \n",
       "<mark class=\"entity\" style=\"background: #33E9FF; padding: 0.45em 0.6em; margin: 0 0.25em; line-height: 1; border-radius: 0.35em;\">\n",
       "    Section 115\n",
       "    <span style=\"font-size: 0.8em; font-weight: bold; line-height: 1; border-radius: 0.35em; vertical-align: middle; margin-left: 0.5rem\">PROVISION</span>\n",
       "</mark>\n",
       " as it stands makes it clear that the stress is on the question whether the order in favour of the party applying for revision would have given finality to suit or other proceeding. If the answer is 'yes' then the revision is maintainable. But on the contrary, if the answer is 'no' then the revision is not maintainable. Therefore, if the impugned order is of interim in nature or does not finally decide the lis, the revision will not be maintainable. The legislative intent is crystal clear. Those orders, which are interim in nature, cannot be the subject matter of revision under \n",
       "<mark class=\"entity\" style=\"background: #33E9FF; padding: 0.45em 0.6em; margin: 0 0.25em; line-height: 1; border-radius: 0.35em;\">\n",
       "    Section 115\n",
       "    <span style=\"font-size: 0.8em; font-weight: bold; line-height: 1; border-radius: 0.35em; vertical-align: middle; margin-left: 0.5rem\">PROVISION</span>\n",
       "</mark>\n",
       ". There is marked distinction in language of \n",
       "<mark class=\"entity\" style=\"background: #33E9FF; padding: 0.45em 0.6em; margin: 0 0.25em; line-height: 1; border-radius: 0.35em;\">\n",
       "    Section 97(3)\n",
       "    <span style=\"font-size: 0.8em; font-weight: bold; line-height: 1; border-radius: 0.35em; vertical-align: middle; margin-left: 0.5rem\">PROVISION</span>\n",
       "</mark>\n",
       " of the Old Amendment Act and \n",
       "<mark class=\"entity\" style=\"background: #33E9FF; padding: 0.45em 0.6em; margin: 0 0.25em; line-height: 1; border-radius: 0.35em;\">\n",
       "    Section 32(2)(i)\n",
       "    <span style=\"font-size: 0.8em; font-weight: bold; line-height: 1; border-radius: 0.35em; vertical-align: middle; margin-left: 0.5rem\">PROVISION</span>\n",
       "</mark>\n",
       " of the Amendment Act. While in the former, there was clear legislative intent to save applications admitted or pending before the amendment came into force. Such an intent is significantly absent in \n",
       "<mark class=\"entity\" style=\"background: #33E9FF; padding: 0.45em 0.6em; margin: 0 0.25em; line-height: 1; border-radius: 0.35em;\">\n",
       "    Section 32(2)(i)\n",
       "    <span style=\"font-size: 0.8em; font-weight: bold; line-height: 1; border-radius: 0.35em; vertical-align: middle; margin-left: 0.5rem\">PROVISION</span>\n",
       "</mark>\n",
       ". The amendment relates to procedures. No person has a vested right in a course of procedure. He has only the right of proceeding in the manner prescribed. If by a statutory change the mode of procedure is altered the parties are to proceed according to the altered mode, without exception, unless there is a different stipulation. </br></br> \n",
       "<mark class=\"entity\" style=\"background: #33E9FF; padding: 0.45em 0.6em; margin: 0 0.25em; line-height: 1; border-radius: 0.35em;\">\n",
       "    Section 6\n",
       "    <span style=\"font-size: 0.8em; font-weight: bold; line-height: 1; border-radius: 0.35em; vertical-align: middle; margin-left: 0.5rem\">PROVISION</span>\n",
       "</mark>\n",
       " of the \n",
       "<mark class=\"entity\" style=\"background: #1C4D53; padding: 0.45em 0.6em; margin: 0 0.25em; line-height: 1; border-radius: 0.35em;\">\n",
       "    General Clauses Act\n",
       "    <span style=\"font-size: 0.8em; font-weight: bold; line-height: 1; border-radius: 0.35em; vertical-align: middle; margin-left: 0.5rem\">STATUTE</span>\n",
       "</mark>\n",
       " has no application because there is no substantive vested right available to a party seeking revision under \n",
       "<mark class=\"entity\" style=\"background: #33E9FF; padding: 0.45em 0.6em; margin: 0 0.25em; line-height: 1; border-radius: 0.35em;\">\n",
       "    Section 115\n",
       "    <span style=\"font-size: 0.8em; font-weight: bold; line-height: 1; border-radius: 0.35em; vertical-align: middle; margin-left: 0.5rem\">PROVISION</span>\n",
       "</mark>\n",
       " of the Code. In \n",
       "<mark class=\"entity\" style=\"background: #ddd; padding: 0.45em 0.6em; margin: 0 0.25em; line-height: 1; border-radius: 0.35em;\">\n",
       "    Kolhapur Canesugar Works Ltd. and another vs. Union of India and others (AIR 2000 SC 811)\n",
       "    <span style=\"font-size: 0.8em; font-weight: bold; line-height: 1; border-radius: 0.35em; vertical-align: middle; margin-left: 0.5rem\">PRECEDENT</span>\n",
       "</mark>\n",
       ", it was observed that if a provision of statute is unconditionally omitted without a saving clause in favour of pending proceedings, all actions must stop where the omission finds them, and if final relief has not been granted before the omission goes into effect, there is no scope for granting it afterwards. There is modification of this position by application of \n",
       "<mark class=\"entity\" style=\"background: #33E9FF; padding: 0.45em 0.6em; margin: 0 0.25em; line-height: 1; border-radius: 0.35em;\">\n",
       "    Section 6\n",
       "    <span style=\"font-size: 0.8em; font-weight: bold; line-height: 1; border-radius: 0.35em; vertical-align: middle; margin-left: 0.5rem\">PROVISION</span>\n",
       "</mark>\n",
       " of the \n",
       "<mark class=\"entity\" style=\"background: #1C4D53; padding: 0.45em 0.6em; margin: 0 0.25em; line-height: 1; border-radius: 0.35em;\">\n",
       "    General Clauses Act\n",
       "    <span style=\"font-size: 0.8em; font-weight: bold; line-height: 1; border-radius: 0.35em; vertical-align: middle; margin-left: 0.5rem\">STATUTE</span>\n",
       "</mark>\n",
       " or by making special provisions. Operation of repeal or deletion as to the future and the past largely depends on the savings applicable. In a case where a particular provision in the statute is omitted and in its place another provision dealing with the same contingency is introduced without a saving clause in favour of pending proceedings, then it can be reasonably inferred that the intention of the legislature is that the pending proceedings shall continue but a fresh proceeding for the same purpose may be initiated under the new provision. </br></br> In view of what has been stated above the inevitable conclusion is that the High Courts were right in the conclusion about non-maintainability of revision applications. </br></br> It was submitted by learned counsel for the appellants that even if the revision applications are held to be not maintainable, there should not be a bar on challenge being made under \n",
       "<mark class=\"entity\" style=\"background: #33E9FF; padding: 0.45em 0.6em; margin: 0 0.25em; line-height: 1; border-radius: 0.35em;\">\n",
       "    Section 227\n",
       "    <span style=\"font-size: 0.8em; font-weight: bold; line-height: 1; border-radius: 0.35em; vertical-align: middle; margin-left: 0.5rem\">PROVISION</span>\n",
       "</mark>\n",
       " of the \n",
       "<mark class=\"entity\" style=\"background: #1C4D53; padding: 0.45em 0.6em; margin: 0 0.25em; line-height: 1; border-radius: 0.35em;\">\n",
       "    Constitution\n",
       "    <span style=\"font-size: 0.8em; font-weight: bold; line-height: 1; border-radius: 0.35em; vertical-align: middle; margin-left: 0.5rem\">STATUTE</span>\n",
       "</mark>\n",
       ". It was submitted that an opportunity may be granted to the appellants to avail the remedy. </br></br> If any remedy is available to a party under any statute no liberty is necessary to be granted for availing the same. If the appellants avail such remedy, the same shall be dealt with in accordance with law. </br></br> The appeals are dismissed. No costs.</div></span>"
      ],
      "text/plain": [
       "<IPython.core.display.HTML object>"
      ]
     },
     "metadata": {},
     "output_type": "display_data"
    }
   ],
   "source": [
    "displacy.render(combined_doc, style='ent',jupyter=True,options=options)"
   ]
  }
 ],
 "metadata": {
  "accelerator": "GPU",
  "colab": {
   "collapsed_sections": [
    "iJDIEo7swbba",
    "d9nntx_A1WvU",
    "8agTmoRh5YCS",
    "kG8jISmD5dy7",
    "LX76ElYPnLcj"
   ],
   "provenance": []
  },
  "kernelspec": {
   "display_name": "Python 3 (ipykernel)",
   "language": "python",
   "name": "python3"
  },
  "language_info": {
   "codemirror_mode": {
    "name": "ipython",
    "version": 3
   },
   "file_extension": ".py",
   "mimetype": "text/x-python",
   "name": "python",
   "nbconvert_exporter": "python",
   "pygments_lexer": "ipython3",
   "version": "3.9.13"
  }
 },
 "nbformat": 4,
 "nbformat_minor": 1
}
